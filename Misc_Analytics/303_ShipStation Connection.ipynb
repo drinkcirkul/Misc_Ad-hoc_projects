{
 "metadata": {
  "language_info": {
   "codemirror_mode": {
    "name": "ipython",
    "version": 3
   },
   "file_extension": ".py",
   "mimetype": "text/x-python",
   "name": "python",
   "nbconvert_exporter": "python",
   "pygments_lexer": "ipython3",
   "version": "3.9.5"
  },
  "orig_nbformat": 2,
  "kernelspec": {
   "name": "python395jvsc74a57bd022cee99f74ec38adc7393270a77b342381809bc1e225db732d70d4b3b19ce19a",
   "display_name": "Python 3.9.5 64-bit (windows store)"
  },
  "metadata": {
   "interpreter": {
    "hash": "22cee99f74ec38adc7393270a77b342381809bc1e225db732d70d4b3b19ce19a"
   }
  }
 },
 "nbformat": 4,
 "nbformat_minor": 2,
 "cells": [
  {
   "cell_type": "code",
   "execution_count": 1,
   "metadata": {},
   "outputs": [
    {
     "output_type": "stream",
     "name": "stdout",
     "text": [
      "b'401 Unauthorized'\n"
     ]
    }
   ],
   "source": [
    "import requests\n",
    "\n",
    "# url = \"https://ssapi.shipstation.com/customers/{customerId}\"\n",
    "url = \"https://ssapi.shipstation.com\"\n",
    "\n",
    "payload = {}\n",
    "headers = {\n",
    "  'Host': 'ssapi.shipstation.com',\n",
    "  'Authorization': \"c8ddeb4067d7459d93672f7f76e2a74b:29211079deda480f86147d3778c062b4\"\n",
    "}\n",
    "\n",
    "response = requests.request(\"GET\", url, headers=headers, data = payload)\n",
    "print(response.text.encode('utf8'))"
   ]
  }
 ]
}