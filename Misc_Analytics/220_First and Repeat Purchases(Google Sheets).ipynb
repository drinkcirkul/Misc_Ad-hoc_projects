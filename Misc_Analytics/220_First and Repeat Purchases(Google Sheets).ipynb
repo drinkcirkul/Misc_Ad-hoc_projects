{
 "metadata": {
  "language_info": {
   "codemirror_mode": {
    "name": "ipython",
    "version": 3
   },
   "file_extension": ".py",
   "mimetype": "text/x-python",
   "name": "python",
   "nbconvert_exporter": "python",
   "pygments_lexer": "ipython3",
   "version": "3.9.0"
  },
  "orig_nbformat": 2,
  "kernelspec": {
   "name": "python390jvsc74a57bd00a45e4b4b379e8208285c732dbfe5afc035e9fb1829b10d00c69beaa8e6e7729",
   "display_name": "Python 3.9.0 64-bit"
  },
  "metadata": {
   "interpreter": {
    "hash": "0a45e4b4b379e8208285c732dbfe5afc035e9fb1829b10d00c69beaa8e6e7729"
   }
  }
 },
 "nbformat": 4,
 "nbformat_minor": 2,
 "cells": [
  {
   "source": [
    "## First and Repeat Purchases Revenue - Upload to Google Sheet"
   ],
   "cell_type": "markdown",
   "metadata": {}
  },
  {
   "cell_type": "code",
   "execution_count": 16,
   "metadata": {},
   "outputs": [],
   "source": [
    "# Libraries needed\n",
    "import pandas as pd\n",
    "import sqlalchemy\n",
    "from sqlalchemy import create_engine\n",
    "\n",
    "import json\n",
    "from datetime import datetime, date, timedelta"
   ]
  },
  {
   "cell_type": "code",
   "execution_count": 17,
   "metadata": {},
   "outputs": [],
   "source": [
    "import creds_panoply\n",
    "\n",
    "POSTGRES_ADDRESS = creds_panoply.address\n",
    "POSTGRES_PORT = creds_panoply.port\n",
    "POSTGRES_USERNAME = creds_panoply.username\n",
    "POSTGRES_PASSWORD = creds_panoply.pw\n",
    "POSTGRES_DBNAME = creds_panoply.dbname\n",
    "\n",
    "postgres_str = ('postgresql://{username}:{password}@{ipaddress}:{port}/{dbname}'.format(\n",
    "    username=POSTGRES_USERNAME,\n",
    "    password=POSTGRES_PASSWORD,\n",
    "    ipaddress=POSTGRES_ADDRESS,\n",
    "    port=POSTGRES_PORT,\n",
    "    dbname=POSTGRES_DBNAME))\n",
    "\n",
    "cnx = create_engine(postgres_str)"
   ]
  },
  {
   "cell_type": "code",
   "execution_count": 18,
   "metadata": {},
   "outputs": [],
   "source": [
    "# Importing selected fields\n",
    "tbl_name = \"cirkul_database_import.business_intelligence_customers AS CUSTOMERS INNER JOIN cirkul_database_import.business_intelligence_orders as ORDERS ON ORDERS.customer_id = CUSTOMERS.shopify_customer_id\"\n",
    "sel_fields = \"shopify_customer_id, first_purchase_at, order_processed_at_date, order_revenue\"\n",
    "query = \"SELECT \" + sel_fields + \" FROM \" + tbl_name\n",
    "df_orders = pd.read_sql_query(query, cnx)\n"
   ]
  },
  {
   "cell_type": "code",
   "execution_count": 19,
   "metadata": {},
   "outputs": [
    {
     "output_type": "execute_result",
     "data": {
      "text/plain": [
       "         shopify_customer_id   first_purchase_at order_processed_at_date  \\\n",
       "0              2911096635482 2020-01-05 02:14:10     2021-02-04 07:43:40   \n",
       "1              3835229732954 2020-11-06 20:51:10     2021-02-04 15:03:10   \n",
       "2              1331687260250 2019-05-16 15:13:19     2021-02-04 13:33:46   \n",
       "3              3861229502554 2020-11-25 19:39:04     2021-02-04 14:18:34   \n",
       "4              2994864980058 2020-01-24 20:47:33     2020-02-07 10:25:34   \n",
       "...                      ...                 ...                     ...   \n",
       "3068555        5121559691354 2021-04-06 14:02:31     2021-04-06 14:02:31   \n",
       "3068556        5121641087066 2021-04-06 14:32:26     2021-04-06 14:32:26   \n",
       "3068557        5118006886490 2021-04-06 14:19:42     2021-04-06 14:19:42   \n",
       "3068558        5121520107610 2021-04-06 14:00:45     2021-04-06 14:00:45   \n",
       "3068559        5120978288730 2021-04-06 14:04:34     2021-04-06 14:04:34   \n",
       "\n",
       "         order_revenue  \n",
       "0               102.35  \n",
       "1                40.00  \n",
       "2                25.00  \n",
       "3                48.00  \n",
       "4                27.00  \n",
       "...                ...  \n",
       "3068555          20.00  \n",
       "3068556          42.00  \n",
       "3068557          11.00  \n",
       "3068558          42.00  \n",
       "3068559          25.50  \n",
       "\n",
       "[3068560 rows x 4 columns]"
      ],
      "text/html": "<div>\n<style scoped>\n    .dataframe tbody tr th:only-of-type {\n        vertical-align: middle;\n    }\n\n    .dataframe tbody tr th {\n        vertical-align: top;\n    }\n\n    .dataframe thead th {\n        text-align: right;\n    }\n</style>\n<table border=\"1\" class=\"dataframe\">\n  <thead>\n    <tr style=\"text-align: right;\">\n      <th></th>\n      <th>shopify_customer_id</th>\n      <th>first_purchase_at</th>\n      <th>order_processed_at_date</th>\n      <th>order_revenue</th>\n    </tr>\n  </thead>\n  <tbody>\n    <tr>\n      <th>0</th>\n      <td>2911096635482</td>\n      <td>2020-01-05 02:14:10</td>\n      <td>2021-02-04 07:43:40</td>\n      <td>102.35</td>\n    </tr>\n    <tr>\n      <th>1</th>\n      <td>3835229732954</td>\n      <td>2020-11-06 20:51:10</td>\n      <td>2021-02-04 15:03:10</td>\n      <td>40.00</td>\n    </tr>\n    <tr>\n      <th>2</th>\n      <td>1331687260250</td>\n      <td>2019-05-16 15:13:19</td>\n      <td>2021-02-04 13:33:46</td>\n      <td>25.00</td>\n    </tr>\n    <tr>\n      <th>3</th>\n      <td>3861229502554</td>\n      <td>2020-11-25 19:39:04</td>\n      <td>2021-02-04 14:18:34</td>\n      <td>48.00</td>\n    </tr>\n    <tr>\n      <th>4</th>\n      <td>2994864980058</td>\n      <td>2020-01-24 20:47:33</td>\n      <td>2020-02-07 10:25:34</td>\n      <td>27.00</td>\n    </tr>\n    <tr>\n      <th>...</th>\n      <td>...</td>\n      <td>...</td>\n      <td>...</td>\n      <td>...</td>\n    </tr>\n    <tr>\n      <th>3068555</th>\n      <td>5121559691354</td>\n      <td>2021-04-06 14:02:31</td>\n      <td>2021-04-06 14:02:31</td>\n      <td>20.00</td>\n    </tr>\n    <tr>\n      <th>3068556</th>\n      <td>5121641087066</td>\n      <td>2021-04-06 14:32:26</td>\n      <td>2021-04-06 14:32:26</td>\n      <td>42.00</td>\n    </tr>\n    <tr>\n      <th>3068557</th>\n      <td>5118006886490</td>\n      <td>2021-04-06 14:19:42</td>\n      <td>2021-04-06 14:19:42</td>\n      <td>11.00</td>\n    </tr>\n    <tr>\n      <th>3068558</th>\n      <td>5121520107610</td>\n      <td>2021-04-06 14:00:45</td>\n      <td>2021-04-06 14:00:45</td>\n      <td>42.00</td>\n    </tr>\n    <tr>\n      <th>3068559</th>\n      <td>5120978288730</td>\n      <td>2021-04-06 14:04:34</td>\n      <td>2021-04-06 14:04:34</td>\n      <td>25.50</td>\n    </tr>\n  </tbody>\n</table>\n<p>3068560 rows × 4 columns</p>\n</div>"
     },
     "metadata": {},
     "execution_count": 19
    }
   ],
   "source": [
    "df_orders"
   ]
  },
  {
   "cell_type": "code",
   "execution_count": 21,
   "metadata": {},
   "outputs": [
    {
     "output_type": "execute_result",
     "data": {
      "text/plain": [
       "   shopify_customer_id first_purchase_at order_processed_at_date  \\\n",
       "0        2911096635482        2020-01-05              2021-02-04   \n",
       "1        3835229732954        2020-11-06              2021-02-04   \n",
       "2        1331687260250        2019-05-16              2021-02-04   \n",
       "3        3861229502554        2020-11-25              2021-02-04   \n",
       "4        2994864980058        2020-01-24              2020-02-07   \n",
       "\n",
       "   order_revenue    Month  \n",
       "0         102.35  2021-02  \n",
       "1          40.00  2021-02  \n",
       "2          25.00  2021-02  \n",
       "3          48.00  2021-02  \n",
       "4          27.00  2020-02  "
      ],
      "text/html": "<div>\n<style scoped>\n    .dataframe tbody tr th:only-of-type {\n        vertical-align: middle;\n    }\n\n    .dataframe tbody tr th {\n        vertical-align: top;\n    }\n\n    .dataframe thead th {\n        text-align: right;\n    }\n</style>\n<table border=\"1\" class=\"dataframe\">\n  <thead>\n    <tr style=\"text-align: right;\">\n      <th></th>\n      <th>shopify_customer_id</th>\n      <th>first_purchase_at</th>\n      <th>order_processed_at_date</th>\n      <th>order_revenue</th>\n      <th>Month</th>\n    </tr>\n  </thead>\n  <tbody>\n    <tr>\n      <th>0</th>\n      <td>2911096635482</td>\n      <td>2020-01-05</td>\n      <td>2021-02-04</td>\n      <td>102.35</td>\n      <td>2021-02</td>\n    </tr>\n    <tr>\n      <th>1</th>\n      <td>3835229732954</td>\n      <td>2020-11-06</td>\n      <td>2021-02-04</td>\n      <td>40.00</td>\n      <td>2021-02</td>\n    </tr>\n    <tr>\n      <th>2</th>\n      <td>1331687260250</td>\n      <td>2019-05-16</td>\n      <td>2021-02-04</td>\n      <td>25.00</td>\n      <td>2021-02</td>\n    </tr>\n    <tr>\n      <th>3</th>\n      <td>3861229502554</td>\n      <td>2020-11-25</td>\n      <td>2021-02-04</td>\n      <td>48.00</td>\n      <td>2021-02</td>\n    </tr>\n    <tr>\n      <th>4</th>\n      <td>2994864980058</td>\n      <td>2020-01-24</td>\n      <td>2020-02-07</td>\n      <td>27.00</td>\n      <td>2020-02</td>\n    </tr>\n  </tbody>\n</table>\n</div>"
     },
     "metadata": {},
     "execution_count": 21
    }
   ],
   "source": [
    "# Converting the dates into propoer date\n",
    "df_orders['first_purchase_at'] = pd.to_datetime(df_orders['first_purchase_at'], origin='unix', unit='s').dt.strftime('%Y-%m-%d')\n",
    "df_orders['order_processed_at_date'] = pd.to_datetime(df_orders['order_processed_at_date'], origin='unix', unit='s').dt.strftime('%Y-%m-%d')\n",
    "\n",
    "# Adding a column for month\n",
    "df_orders['Month'] = pd.to_datetime(df_orders['order_processed_at_date']).dt.strftime('%Y-%m')\n",
    "\n",
    "df_orders.head()"
   ]
  },
  {
   "cell_type": "code",
   "execution_count": 22,
   "metadata": {},
   "outputs": [
    {
     "output_type": "execute_result",
     "data": {
      "text/plain": [
       "         shopify_customer_id first_purchase_at order_processed_at_date  \\\n",
       "0              2911096635482        2020-01-05              2021-02-04   \n",
       "1              3835229732954        2020-11-06              2021-02-04   \n",
       "2              1331687260250        2019-05-16              2021-02-04   \n",
       "3              3861229502554        2020-11-25              2021-02-04   \n",
       "4              2994864980058        2020-01-24              2020-02-07   \n",
       "...                      ...               ...                     ...   \n",
       "3068555        5121559691354        2021-04-06              2021-04-06   \n",
       "3068556        5121641087066        2021-04-06              2021-04-06   \n",
       "3068557        5118006886490        2021-04-06              2021-04-06   \n",
       "3068558        5121520107610        2021-04-06              2021-04-06   \n",
       "3068559        5120978288730        2021-04-06              2021-04-06   \n",
       "\n",
       "         order_revenue    Month ORDER_TYPE  \n",
       "0               102.35  2021-02     REPEAT  \n",
       "1                40.00  2021-02     REPEAT  \n",
       "2                25.00  2021-02     REPEAT  \n",
       "3                48.00  2021-02     REPEAT  \n",
       "4                27.00  2020-02     REPEAT  \n",
       "...                ...      ...        ...  \n",
       "3068555          20.00  2021-04      FIRST  \n",
       "3068556          42.00  2021-04      FIRST  \n",
       "3068557          11.00  2021-04      FIRST  \n",
       "3068558          42.00  2021-04      FIRST  \n",
       "3068559          25.50  2021-04      FIRST  \n",
       "\n",
       "[3068560 rows x 6 columns]"
      ],
      "text/html": "<div>\n<style scoped>\n    .dataframe tbody tr th:only-of-type {\n        vertical-align: middle;\n    }\n\n    .dataframe tbody tr th {\n        vertical-align: top;\n    }\n\n    .dataframe thead th {\n        text-align: right;\n    }\n</style>\n<table border=\"1\" class=\"dataframe\">\n  <thead>\n    <tr style=\"text-align: right;\">\n      <th></th>\n      <th>shopify_customer_id</th>\n      <th>first_purchase_at</th>\n      <th>order_processed_at_date</th>\n      <th>order_revenue</th>\n      <th>Month</th>\n      <th>ORDER_TYPE</th>\n    </tr>\n  </thead>\n  <tbody>\n    <tr>\n      <th>0</th>\n      <td>2911096635482</td>\n      <td>2020-01-05</td>\n      <td>2021-02-04</td>\n      <td>102.35</td>\n      <td>2021-02</td>\n      <td>REPEAT</td>\n    </tr>\n    <tr>\n      <th>1</th>\n      <td>3835229732954</td>\n      <td>2020-11-06</td>\n      <td>2021-02-04</td>\n      <td>40.00</td>\n      <td>2021-02</td>\n      <td>REPEAT</td>\n    </tr>\n    <tr>\n      <th>2</th>\n      <td>1331687260250</td>\n      <td>2019-05-16</td>\n      <td>2021-02-04</td>\n      <td>25.00</td>\n      <td>2021-02</td>\n      <td>REPEAT</td>\n    </tr>\n    <tr>\n      <th>3</th>\n      <td>3861229502554</td>\n      <td>2020-11-25</td>\n      <td>2021-02-04</td>\n      <td>48.00</td>\n      <td>2021-02</td>\n      <td>REPEAT</td>\n    </tr>\n    <tr>\n      <th>4</th>\n      <td>2994864980058</td>\n      <td>2020-01-24</td>\n      <td>2020-02-07</td>\n      <td>27.00</td>\n      <td>2020-02</td>\n      <td>REPEAT</td>\n    </tr>\n    <tr>\n      <th>...</th>\n      <td>...</td>\n      <td>...</td>\n      <td>...</td>\n      <td>...</td>\n      <td>...</td>\n      <td>...</td>\n    </tr>\n    <tr>\n      <th>3068555</th>\n      <td>5121559691354</td>\n      <td>2021-04-06</td>\n      <td>2021-04-06</td>\n      <td>20.00</td>\n      <td>2021-04</td>\n      <td>FIRST</td>\n    </tr>\n    <tr>\n      <th>3068556</th>\n      <td>5121641087066</td>\n      <td>2021-04-06</td>\n      <td>2021-04-06</td>\n      <td>42.00</td>\n      <td>2021-04</td>\n      <td>FIRST</td>\n    </tr>\n    <tr>\n      <th>3068557</th>\n      <td>5118006886490</td>\n      <td>2021-04-06</td>\n      <td>2021-04-06</td>\n      <td>11.00</td>\n      <td>2021-04</td>\n      <td>FIRST</td>\n    </tr>\n    <tr>\n      <th>3068558</th>\n      <td>5121520107610</td>\n      <td>2021-04-06</td>\n      <td>2021-04-06</td>\n      <td>42.00</td>\n      <td>2021-04</td>\n      <td>FIRST</td>\n    </tr>\n    <tr>\n      <th>3068559</th>\n      <td>5120978288730</td>\n      <td>2021-04-06</td>\n      <td>2021-04-06</td>\n      <td>25.50</td>\n      <td>2021-04</td>\n      <td>FIRST</td>\n    </tr>\n  </tbody>\n</table>\n<p>3068560 rows × 6 columns</p>\n</div>"
     },
     "metadata": {},
     "execution_count": 22
    }
   ],
   "source": [
    "# Creating another field for identifying the first and repeat purchase orders\n",
    "\n",
    "def label_OrderType (row):\n",
    "    if row['first_purchase_at'] == row['order_processed_at_date']:\n",
    "        return 'FIRST'\n",
    "    else:\n",
    "        return 'REPEAT'\n",
    "\n",
    "df_orders['ORDER_TYPE'] = df_orders.apply(lambda row: label_OrderType(row), axis=1)\n",
    "df_orders"
   ]
  },
  {
   "cell_type": "code",
   "execution_count": 25,
   "metadata": {},
   "outputs": [
    {
     "output_type": "execute_result",
     "data": {
      "text/plain": [
       "     Month ORDER_TYPE  order_revenue\n",
       "0  2017-10      FIRST         674.00\n",
       "1  2017-11      FIRST        4366.00\n",
       "2  2017-11     REPEAT         540.00\n",
       "3  2017-12      FIRST        6486.92\n",
       "4  2017-12     REPEAT        8324.87"
      ],
      "text/html": "<div>\n<style scoped>\n    .dataframe tbody tr th:only-of-type {\n        vertical-align: middle;\n    }\n\n    .dataframe tbody tr th {\n        vertical-align: top;\n    }\n\n    .dataframe thead th {\n        text-align: right;\n    }\n</style>\n<table border=\"1\" class=\"dataframe\">\n  <thead>\n    <tr style=\"text-align: right;\">\n      <th></th>\n      <th>Month</th>\n      <th>ORDER_TYPE</th>\n      <th>order_revenue</th>\n    </tr>\n  </thead>\n  <tbody>\n    <tr>\n      <th>0</th>\n      <td>2017-10</td>\n      <td>FIRST</td>\n      <td>674.00</td>\n    </tr>\n    <tr>\n      <th>1</th>\n      <td>2017-11</td>\n      <td>FIRST</td>\n      <td>4366.00</td>\n    </tr>\n    <tr>\n      <th>2</th>\n      <td>2017-11</td>\n      <td>REPEAT</td>\n      <td>540.00</td>\n    </tr>\n    <tr>\n      <th>3</th>\n      <td>2017-12</td>\n      <td>FIRST</td>\n      <td>6486.92</td>\n    </tr>\n    <tr>\n      <th>4</th>\n      <td>2017-12</td>\n      <td>REPEAT</td>\n      <td>8324.87</td>\n    </tr>\n  </tbody>\n</table>\n</div>"
     },
     "metadata": {},
     "execution_count": 25
    }
   ],
   "source": [
    "# Grouping\n",
    "df_output = df_orders.groupby(['Month', 'ORDER_TYPE']).sum()['order_revenue'].to_frame()\n",
    "df_output.reset_index(inplace=True)\n",
    "df_output.head()"
   ]
  },
  {
   "source": [
    "### Sending it to Google sheets"
   ],
   "cell_type": "markdown",
   "metadata": {}
  },
  {
   "cell_type": "code",
   "execution_count": 27,
   "metadata": {},
   "outputs": [
    {
     "output_type": "error",
     "ename": "SpreadsheetNotFound",
     "evalue": "Could not find a spreadsheet with title Data for Chartio Plots.",
     "traceback": [
      "\u001b[1;31m---------------------------------------------------------------------------\u001b[0m",
      "\u001b[1;31mIndexError\u001b[0m                                Traceback (most recent call last)",
      "\u001b[1;32mC:\\Python\\Python390\\lib\\site-packages\\pygsheets\\client.py\u001b[0m in \u001b[0;36mopen\u001b[1;34m(self, title)\u001b[0m\n\u001b[0;32m    142\u001b[0m         \u001b[1;32mtry\u001b[0m\u001b[1;33m:\u001b[0m\u001b[1;33m\u001b[0m\u001b[1;33m\u001b[0m\u001b[0m\n\u001b[1;32m--> 143\u001b[1;33m             \u001b[0mspreadsheet\u001b[0m \u001b[1;33m=\u001b[0m \u001b[0mlist\u001b[0m\u001b[1;33m(\u001b[0m\u001b[0mfilter\u001b[0m\u001b[1;33m(\u001b[0m\u001b[1;32mlambda\u001b[0m \u001b[0mx\u001b[0m\u001b[1;33m:\u001b[0m \u001b[0mx\u001b[0m\u001b[1;33m[\u001b[0m\u001b[1;34m'name'\u001b[0m\u001b[1;33m]\u001b[0m \u001b[1;33m==\u001b[0m \u001b[0mtitle\u001b[0m\u001b[1;33m,\u001b[0m \u001b[0mself\u001b[0m\u001b[1;33m.\u001b[0m\u001b[0mdrive\u001b[0m\u001b[1;33m.\u001b[0m\u001b[0mspreadsheet_metadata\u001b[0m\u001b[1;33m(\u001b[0m\u001b[1;33m)\u001b[0m\u001b[1;33m)\u001b[0m\u001b[1;33m)\u001b[0m\u001b[1;33m[\u001b[0m\u001b[1;36m0\u001b[0m\u001b[1;33m]\u001b[0m\u001b[1;33m\u001b[0m\u001b[1;33m\u001b[0m\u001b[0m\n\u001b[0m\u001b[0;32m    144\u001b[0m             \u001b[1;32mreturn\u001b[0m \u001b[0mself\u001b[0m\u001b[1;33m.\u001b[0m\u001b[0mopen_by_key\u001b[0m\u001b[1;33m(\u001b[0m\u001b[0mspreadsheet\u001b[0m\u001b[1;33m[\u001b[0m\u001b[1;34m'id'\u001b[0m\u001b[1;33m]\u001b[0m\u001b[1;33m)\u001b[0m\u001b[1;33m\u001b[0m\u001b[1;33m\u001b[0m\u001b[0m\n",
      "\u001b[1;31mIndexError\u001b[0m: list index out of range",
      "\nDuring handling of the above exception, another exception occurred:\n",
      "\u001b[1;31mSpreadsheetNotFound\u001b[0m                       Traceback (most recent call last)",
      "\u001b[1;32m<ipython-input-27-7aef32005bb0>\u001b[0m in \u001b[0;36m<module>\u001b[1;34m\u001b[0m\n\u001b[0;32m      3\u001b[0m \u001b[1;33m\u001b[0m\u001b[0m\n\u001b[0;32m      4\u001b[0m \u001b[0mgc\u001b[0m \u001b[1;33m=\u001b[0m \u001b[0mpygsheets\u001b[0m\u001b[1;33m.\u001b[0m\u001b[0mauthorize\u001b[0m\u001b[1;33m(\u001b[0m\u001b[0mservice_file\u001b[0m\u001b[1;33m=\u001b[0m\u001b[1;34m'cred_gsheets_analytics_snowflake.json'\u001b[0m\u001b[1;33m)\u001b[0m\u001b[1;33m\u001b[0m\u001b[1;33m\u001b[0m\u001b[0m\n\u001b[1;32m----> 5\u001b[1;33m \u001b[0mfile_dataForChartio\u001b[0m \u001b[1;33m=\u001b[0m \u001b[0mgc\u001b[0m\u001b[1;33m.\u001b[0m\u001b[0mopen\u001b[0m\u001b[1;33m(\u001b[0m\u001b[1;34m\"Data for Chartio Plots\"\u001b[0m\u001b[1;33m)\u001b[0m\u001b[1;33m\u001b[0m\u001b[1;33m\u001b[0m\u001b[0m\n\u001b[0m\u001b[0;32m      6\u001b[0m \u001b[0msht_First_n_Repeat_Orders\u001b[0m \u001b[1;33m=\u001b[0m \u001b[0mfile_dataForChartio\u001b[0m\u001b[1;33m[\u001b[0m\u001b[1;36m1\u001b[0m\u001b[1;33m]\u001b[0m\u001b[1;33m\u001b[0m\u001b[1;33m\u001b[0m\u001b[0m\n\u001b[0;32m      7\u001b[0m \u001b[1;33m\u001b[0m\u001b[0m\n",
      "\u001b[1;32mC:\\Python\\Python390\\lib\\site-packages\\pygsheets\\client.py\u001b[0m in \u001b[0;36mopen\u001b[1;34m(self, title)\u001b[0m\n\u001b[0;32m    144\u001b[0m             \u001b[1;32mreturn\u001b[0m \u001b[0mself\u001b[0m\u001b[1;33m.\u001b[0m\u001b[0mopen_by_key\u001b[0m\u001b[1;33m(\u001b[0m\u001b[0mspreadsheet\u001b[0m\u001b[1;33m[\u001b[0m\u001b[1;34m'id'\u001b[0m\u001b[1;33m]\u001b[0m\u001b[1;33m)\u001b[0m\u001b[1;33m\u001b[0m\u001b[1;33m\u001b[0m\u001b[0m\n\u001b[0;32m    145\u001b[0m         \u001b[1;32mexcept\u001b[0m \u001b[1;33m(\u001b[0m\u001b[0mKeyError\u001b[0m\u001b[1;33m,\u001b[0m \u001b[0mIndexError\u001b[0m\u001b[1;33m)\u001b[0m\u001b[1;33m:\u001b[0m\u001b[1;33m\u001b[0m\u001b[1;33m\u001b[0m\u001b[0m\n\u001b[1;32m--> 146\u001b[1;33m             \u001b[1;32mraise\u001b[0m \u001b[0mSpreadsheetNotFound\u001b[0m\u001b[1;33m(\u001b[0m\u001b[1;34m'Could not find a spreadsheet with title %s.'\u001b[0m \u001b[1;33m%\u001b[0m \u001b[0mtitle\u001b[0m\u001b[1;33m)\u001b[0m\u001b[1;33m\u001b[0m\u001b[1;33m\u001b[0m\u001b[0m\n\u001b[0m\u001b[0;32m    147\u001b[0m \u001b[1;33m\u001b[0m\u001b[0m\n\u001b[0;32m    148\u001b[0m     \u001b[1;32mdef\u001b[0m \u001b[0mopen_by_key\u001b[0m\u001b[1;33m(\u001b[0m\u001b[0mself\u001b[0m\u001b[1;33m,\u001b[0m \u001b[0mkey\u001b[0m\u001b[1;33m)\u001b[0m\u001b[1;33m:\u001b[0m\u001b[1;33m\u001b[0m\u001b[1;33m\u001b[0m\u001b[0m\n",
      "\u001b[1;31mSpreadsheetNotFound\u001b[0m: Could not find a spreadsheet with title Data for Chartio Plots."
     ]
    }
   ],
   "source": [
    "import pygsheets\n",
    "import pandas as pd\n",
    "\n",
    "gc = pygsheets.authorize(service_file='cred_gsheets_analytics_snowflake.json')\n",
    "file_dataForChartio = gc.open(\"Data for Chartio Plots\")\n",
    "sht_First_n_Repeat_Orders = file_dataForChartio[1]\n",
    "\n",
    "sht_First_n_Repeat_Orders.set_dataframe(df_output,(1,1))"
   ]
  },
  {
   "cell_type": "code",
   "execution_count": null,
   "metadata": {},
   "outputs": [],
   "source": []
  },
  {
   "cell_type": "code",
   "execution_count": 29,
   "metadata": {},
   "outputs": [],
   "source": [
    "df_output.to_csv(path_or_buf='data.csv')"
   ]
  }
 ]
}