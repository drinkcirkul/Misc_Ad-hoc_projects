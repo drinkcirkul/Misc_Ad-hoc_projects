{
 "metadata": {
  "language_info": {
   "codemirror_mode": {
    "name": "ipython",
    "version": 3
   },
   "file_extension": ".py",
   "mimetype": "text/x-python",
   "name": "python",
   "nbconvert_exporter": "python",
   "pygments_lexer": "ipython3",
   "version": "3.9.5"
  },
  "orig_nbformat": 2,
  "kernelspec": {
   "name": "python3",
   "display_name": "Python 3.9.5 64-bit ('.venv': venv)"
  },
  "metadata": {
   "interpreter": {
    "hash": "22cee99f74ec38adc7393270a77b342381809bc1e225db732d70d4b3b19ce19a"
   }
  },
  "interpreter": {
   "hash": "eefc111724d3168a5ee344e119bda66e99b71c107eb04ed53becaa4c14d49d7d"
  }
 },
 "nbformat": 4,
 "nbformat_minor": 2,
 "cells": [
  {
   "cell_type": "code",
   "execution_count": 1,
   "source": [
    "import pandas as pd\r\n",
    "import sqlalchemy\r\n",
    "from sqlalchemy import create_engine\r\n",
    "\r\n",
    "from datetime import datetime\r\n",
    "from pandas import DataFrame"
   ],
   "outputs": [],
   "metadata": {}
  },
  {
   "cell_type": "code",
   "execution_count": 2,
   "source": [
    "# Getting credentials from another file\r\n",
    "import creds_panoply\r\n",
    "\r\n",
    "POSTGRES_ADDRESS = creds_panoply.address\r\n",
    "POSTGRES_PORT = creds_panoply.port\r\n",
    "POSTGRES_USERNAME = creds_panoply.username\r\n",
    "POSTGRES_PASSWORD = creds_panoply.pw\r\n",
    "POSTGRES_DBNAME = creds_panoply.dbname\r\n",
    "\r\n",
    "postgres_str = ('postgresql://{username}:{password}@{ipaddress}:{port}/{dbname}'.format(\r\n",
    "    username=POSTGRES_USERNAME,\r\n",
    "    password=POSTGRES_PASSWORD,\r\n",
    "    ipaddress=POSTGRES_ADDRESS,\r\n",
    "    port=POSTGRES_PORT,\r\n",
    "    dbname=POSTGRES_DBNAME))\r\n",
    "\r\n",
    "cnx = create_engine(postgres_str)"
   ],
   "outputs": [],
   "metadata": {}
  },
  {
   "cell_type": "code",
   "execution_count": 3,
   "source": [
    "# TimeStamp\r\n",
    "dateTimeObj = datetime.now(tz=None)\r\n",
    "timeStamp = str(str(dateTimeObj.month) + \".\" + str(dateTimeObj.day) + \".\" + str(dateTimeObj.year))"
   ],
   "outputs": [],
   "metadata": {}
  },
  {
   "cell_type": "code",
   "execution_count": 4,
   "source": [
    "# Orders Table\r\n",
    "\r\n",
    "tbl_name = \"cirkul_database_import.business_intelligence_orders\"\r\n",
    "query = \"SELECT * FROM \" + tbl_name + \" LIMIT 1;\"\r\n",
    "df_orders = pd.read_sql_query(query, cnx)\r\n",
    "\r\n",
    "colname = \"Fields in the Orders Table (\" + timeStamp + \")\"\r\n",
    "columns_order = DataFrame(df_orders.columns, columns=[colname])\r\n",
    "\r\n",
    "# sorting the columns\r\n",
    "columns_order.sort_values(by=[colname], ascending=True, inplace=True)\r\n",
    "columns_order.reset_index(drop=True, inplace=True)\r\n",
    "columns_order.head()"
   ],
   "outputs": [
    {
     "output_type": "execute_result",
     "data": {
      "text/plain": [
       "  Fields in the Orders Table (8.19.2021)\n",
       "0                         __databasename\n",
       "1                           __schemaname\n",
       "2                             __senttime\n",
       "3                                __state\n",
       "4                            __tablename"
      ],
      "text/html": [
       "<div>\n",
       "<style scoped>\n",
       "    .dataframe tbody tr th:only-of-type {\n",
       "        vertical-align: middle;\n",
       "    }\n",
       "\n",
       "    .dataframe tbody tr th {\n",
       "        vertical-align: top;\n",
       "    }\n",
       "\n",
       "    .dataframe thead th {\n",
       "        text-align: right;\n",
       "    }\n",
       "</style>\n",
       "<table border=\"1\" class=\"dataframe\">\n",
       "  <thead>\n",
       "    <tr style=\"text-align: right;\">\n",
       "      <th></th>\n",
       "      <th>Fields in the Orders Table (8.19.2021)</th>\n",
       "    </tr>\n",
       "  </thead>\n",
       "  <tbody>\n",
       "    <tr>\n",
       "      <th>0</th>\n",
       "      <td>__databasename</td>\n",
       "    </tr>\n",
       "    <tr>\n",
       "      <th>1</th>\n",
       "      <td>__schemaname</td>\n",
       "    </tr>\n",
       "    <tr>\n",
       "      <th>2</th>\n",
       "      <td>__senttime</td>\n",
       "    </tr>\n",
       "    <tr>\n",
       "      <th>3</th>\n",
       "      <td>__state</td>\n",
       "    </tr>\n",
       "    <tr>\n",
       "      <th>4</th>\n",
       "      <td>__tablename</td>\n",
       "    </tr>\n",
       "  </tbody>\n",
       "</table>\n",
       "</div>"
      ]
     },
     "metadata": {},
     "execution_count": 4
    }
   ],
   "metadata": {}
  },
  {
   "cell_type": "code",
   "execution_count": 5,
   "source": [
    "# Customers Table\r\n",
    "\r\n",
    "tbl_name = \"cirkul_database_import.business_intelligence_customers\"\r\n",
    "query = \"SELECT * FROM \" + tbl_name + \" LIMIT 1;\"\r\n",
    "df_customers = pd.read_sql_query(query, cnx)\r\n",
    "\r\n",
    "colname = \"Fields in the Customers Table (\" + timeStamp + \")\"\r\n",
    "columns_customers = DataFrame(df_customers.columns, columns=[colname])\r\n",
    "\r\n",
    "# sorting the columns\r\n",
    "columns_customers.sort_values(by=[colname], ascending=True, inplace=True)\r\n",
    "columns_customers.reset_index(drop=True, inplace=True)\r\n",
    "columns_customers.head()"
   ],
   "outputs": [
    {
     "output_type": "execute_result",
     "data": {
      "text/plain": [
       "  Fields in the Customers Table (8.19.2021)\n",
       "0                            __databasename\n",
       "1                              __schemaname\n",
       "2                                __senttime\n",
       "3                                   __state\n",
       "4                               __tablename"
      ],
      "text/html": [
       "<div>\n",
       "<style scoped>\n",
       "    .dataframe tbody tr th:only-of-type {\n",
       "        vertical-align: middle;\n",
       "    }\n",
       "\n",
       "    .dataframe tbody tr th {\n",
       "        vertical-align: top;\n",
       "    }\n",
       "\n",
       "    .dataframe thead th {\n",
       "        text-align: right;\n",
       "    }\n",
       "</style>\n",
       "<table border=\"1\" class=\"dataframe\">\n",
       "  <thead>\n",
       "    <tr style=\"text-align: right;\">\n",
       "      <th></th>\n",
       "      <th>Fields in the Customers Table (8.19.2021)</th>\n",
       "    </tr>\n",
       "  </thead>\n",
       "  <tbody>\n",
       "    <tr>\n",
       "      <th>0</th>\n",
       "      <td>__databasename</td>\n",
       "    </tr>\n",
       "    <tr>\n",
       "      <th>1</th>\n",
       "      <td>__schemaname</td>\n",
       "    </tr>\n",
       "    <tr>\n",
       "      <th>2</th>\n",
       "      <td>__senttime</td>\n",
       "    </tr>\n",
       "    <tr>\n",
       "      <th>3</th>\n",
       "      <td>__state</td>\n",
       "    </tr>\n",
       "    <tr>\n",
       "      <th>4</th>\n",
       "      <td>__tablename</td>\n",
       "    </tr>\n",
       "  </tbody>\n",
       "</table>\n",
       "</div>"
      ]
     },
     "metadata": {},
     "execution_count": 5
    }
   ],
   "metadata": {}
  },
  {
   "cell_type": "code",
   "execution_count": 6,
   "source": [
    "# Exporting the list of columns to Donwloads - CSV\r\n",
    "\r\n",
    "import platform\r\n",
    "import os\r\n",
    "os_name = platform.system()\r\n",
    "\r\n",
    "filename_orders = \"Database_Table_Fields_Orders_\" + timeStamp + \".csv\"\r\n",
    "filename_customers = \"Database_Table_Fields_Customers_\" + timeStamp + \".csv\"\r\n",
    "\r\n",
    "if os_name == \"Darwin\":\r\n",
    "    desktop_path = os.path.join(os.path.join(os.path.expanduser('~')), 'Downloads')\r\n",
    "    columns_order.to_csv(desktop_path + \"/\" + filename_orders)\r\n",
    "    columns_customers.to_csv(desktop_path + \"/\" + filename_customers)\r\n",
    "\r\n",
    "if os_name == \"Windows\":\r\n",
    "    desktop_path = os.path.join(os.path.join(os.environ['USERPROFILE']), 'Downloads')\r\n",
    "    # desktop_path = \"C:\\\\Users\\\\singh\\\\Desktop\"\r\n",
    "    columns_order.to_csv(desktop_path + \"\\\\\" + filename_orders)\r\n",
    "    columns_customers.to_csv(desktop_path + \"\\\\\" + filename_customers)\r\n",
    "\r\n",
    "desktop_path"
   ],
   "outputs": [
    {
     "output_type": "execute_result",
     "data": {
      "text/plain": [
       "'C:\\\\Users\\\\VikasSingh\\\\Downloads'"
      ]
     },
     "metadata": {},
     "execution_count": 6
    }
   ],
   "metadata": {}
  },
  {
   "cell_type": "code",
   "execution_count": 8,
   "source": [
    "# Exporting the list of columns to Donwloads - EXCEL\r\n",
    "\r\n",
    "import platform\r\n",
    "import os\r\n",
    "os_name = platform.system()\r\n",
    "\r\n",
    "filename = \"Database_Table_Fields_\" + timeStamp + \".xlsx\"\r\n",
    "\r\n",
    "if os_name == \"Darwin\":\r\n",
    "    desktop_path = os.path.join(os.path.join(os.path.expanduser('~')), 'Downloads')\r\n",
    "    out_path = desktop_path + \"/\" + filename\r\n",
    "    with pd.ExcelWriter(out_path) as writer:\r\n",
    "        columns_order.to_excel(writer, sheet_name='Orders')\r\n",
    "        columns_customers.to_excel(writer, sheet_name='Customers')\r\n",
    "\r\n",
    "if os_name == \"Windows\":\r\n",
    "    desktop_path = os.path.join(os.path.join(os.environ['USERPROFILE']), 'Downloads')\r\n",
    "    out_path = desktop_path + \"//\" + filename\r\n",
    "    with pd.ExcelWriter(out_path) as writer:\r\n",
    "        columns_order.to_excel(writer, sheet_name='Orders')\r\n",
    "        columns_customers.to_excel(writer, sheet_name='Customers')\r\n",
    "\r\n"
   ],
   "outputs": [],
   "metadata": {}
  }
 ]
}