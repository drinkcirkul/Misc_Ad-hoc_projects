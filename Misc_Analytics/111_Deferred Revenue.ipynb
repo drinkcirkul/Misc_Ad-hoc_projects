{
 "metadata": {
  "language_info": {
   "codemirror_mode": {
    "name": "ipython",
    "version": 3
   },
   "file_extension": ".py",
   "mimetype": "text/x-python",
   "name": "python",
   "nbconvert_exporter": "python",
   "pygments_lexer": "ipython3",
   "version": "3.9.0"
  },
  "orig_nbformat": 2,
  "kernelspec": {
   "name": "python390jvsc74a57bd00a45e4b4b379e8208285c732dbfe5afc035e9fb1829b10d00c69beaa8e6e7729",
   "display_name": "Python 3.9.0 64-bit"
  },
  "metadata": {
   "interpreter": {
    "hash": "0a45e4b4b379e8208285c732dbfe5afc035e9fb1829b10d00c69beaa8e6e7729"
   }
  }
 },
 "nbformat": 4,
 "nbformat_minor": 2,
 "cells": [
  {
   "source": [
    "# Deferred Revenue  "
   ],
   "cell_type": "markdown",
   "metadata": {}
  },
  {
   "source": [
    "### Getting the data"
   ],
   "cell_type": "markdown",
   "metadata": {}
  },
  {
   "cell_type": "code",
   "execution_count": 1,
   "metadata": {},
   "outputs": [
    {
     "output_type": "stream",
     "name": "stdout",
     "text": [
      "# of Total orders:  3272799\n# of orders with missing batch date:  1295952\nSample (5 records)\n"
     ]
    },
    {
     "output_type": "execute_result",
     "data": {
      "text/plain": [
       "  shopify_order_id order_processed_at_date watched_order_batched_at_date  \\\n",
       "0    3679989203034     2021-03-12 14:09:37                           NaT   \n",
       "1    3009411481690     2021-01-01 07:12:11                           NaT   \n",
       "2    1362037243994     2019-01-24 00:50:11                           NaT   \n",
       "3    3693081493594     2021-03-17 22:47:26                           NaT   \n",
       "4    1382759694426     2018-05-18 12:54:48                           NaT   \n",
       "\n",
       "   order_total_sip_count  order_revenue  order_accounting_revenue  \n",
       "0                     17          87.50                     87.50  \n",
       "1                     42         141.81                    145.35  \n",
       "2                      2          28.00                     28.00  \n",
       "3                      0           5.00                     10.00  \n",
       "4                      2           5.00                      5.00  "
      ],
      "text/html": "<div>\n<style scoped>\n    .dataframe tbody tr th:only-of-type {\n        vertical-align: middle;\n    }\n\n    .dataframe tbody tr th {\n        vertical-align: top;\n    }\n\n    .dataframe thead th {\n        text-align: right;\n    }\n</style>\n<table border=\"1\" class=\"dataframe\">\n  <thead>\n    <tr style=\"text-align: right;\">\n      <th></th>\n      <th>shopify_order_id</th>\n      <th>order_processed_at_date</th>\n      <th>watched_order_batched_at_date</th>\n      <th>order_total_sip_count</th>\n      <th>order_revenue</th>\n      <th>order_accounting_revenue</th>\n    </tr>\n  </thead>\n  <tbody>\n    <tr>\n      <th>0</th>\n      <td>3679989203034</td>\n      <td>2021-03-12 14:09:37</td>\n      <td>NaT</td>\n      <td>17</td>\n      <td>87.50</td>\n      <td>87.50</td>\n    </tr>\n    <tr>\n      <th>1</th>\n      <td>3009411481690</td>\n      <td>2021-01-01 07:12:11</td>\n      <td>NaT</td>\n      <td>42</td>\n      <td>141.81</td>\n      <td>145.35</td>\n    </tr>\n    <tr>\n      <th>2</th>\n      <td>1362037243994</td>\n      <td>2019-01-24 00:50:11</td>\n      <td>NaT</td>\n      <td>2</td>\n      <td>28.00</td>\n      <td>28.00</td>\n    </tr>\n    <tr>\n      <th>3</th>\n      <td>3693081493594</td>\n      <td>2021-03-17 22:47:26</td>\n      <td>NaT</td>\n      <td>0</td>\n      <td>5.00</td>\n      <td>10.00</td>\n    </tr>\n    <tr>\n      <th>4</th>\n      <td>1382759694426</td>\n      <td>2018-05-18 12:54:48</td>\n      <td>NaT</td>\n      <td>2</td>\n      <td>5.00</td>\n      <td>5.00</td>\n    </tr>\n  </tbody>\n</table>\n</div>"
     },
     "metadata": {},
     "execution_count": 1
    }
   ],
   "source": [
    "# Libraries needed\n",
    "import pandas as pd\n",
    "import numpy as np\n",
    "import math\n",
    "import sqlalchemy\n",
    "from sqlalchemy import create_engine\n",
    "\n",
    "import json\n",
    "from datetime import datetime, date, timedelta\n",
    "\n",
    "# Libraries for plotting\n",
    "import matplotlib.pyplot as plt\n",
    "%matplotlib inline\n",
    "import plotly.express as px\n",
    "import creds_panoply\n",
    "\n",
    "# Establishing the connection\n",
    "POSTGRES_ADDRESS = creds_panoply.address\n",
    "POSTGRES_PORT = creds_panoply.port\n",
    "POSTGRES_USERNAME = creds_panoply.username\n",
    "POSTGRES_PASSWORD = creds_panoply.pw\n",
    "POSTGRES_DBNAME = creds_panoply.dbname\n",
    "\n",
    "postgres_str = ('postgresql://{username}:{password}@{ipaddress}:{port}/{dbname}'.format(\n",
    "    username=POSTGRES_USERNAME,\n",
    "    password=POSTGRES_PASSWORD,\n",
    "    ipaddress=POSTGRES_ADDRESS,\n",
    "    port=POSTGRES_PORT,\n",
    "    dbname=POSTGRES_DBNAME))\n",
    "\n",
    "cnx = create_engine(postgres_str)\n",
    "\n",
    "# Importing selected fields\n",
    "tbl_name = \"cirkul_database_import.business_intelligence_orders\"\n",
    "sel_fields = \"shopify_order_id, order_processed_at_date, watched_order_batched_at_date, order_total_sip_count, order_revenue, order_accounting_revenue\"\n",
    "query = \"SELECT \" + sel_fields + \" FROM \" + tbl_name\n",
    "df_orders = pd.read_sql_query(query, cnx)\n",
    "\n",
    "print(\"# of Total orders: \", len(df_orders))\n",
    "print(\"# of orders with missing batch date: \", df_orders['watched_order_batched_at_date'].isna().sum())\n",
    "print(\"Sample (5 records)\")\n",
    "df_orders.head()\n"
   ]
  },
  {
   "source": [
    "### Field Modifications"
   ],
   "cell_type": "markdown",
   "metadata": {}
  },
  {
   "cell_type": "code",
   "execution_count": 2,
   "metadata": {},
   "outputs": [
    {
     "output_type": "execute_result",
     "data": {
      "text/plain": [
       "  shopify_order_id order_processed_at_date watched_order_batched_at_date  \\\n",
       "0    3679989203034     2021-03-12 14:09:37                           NaT   \n",
       "1    3009411481690     2021-01-01 07:12:11                           NaT   \n",
       "2    1362037243994     2019-01-24 00:50:11                           NaT   \n",
       "3    3693081493594     2021-03-17 22:47:26                           NaT   \n",
       "4    1382759694426     2018-05-18 12:54:48                           NaT   \n",
       "\n",
       "   order_total_sip_count  order_revenue  order_accounting_revenue Order_Month  \\\n",
       "0                     17          87.50                     87.50     2021-03   \n",
       "1                     42         141.81                    145.35     2021-01   \n",
       "2                      2          28.00                     28.00     2019-01   \n",
       "3                      0           5.00                     10.00     2021-03   \n",
       "4                      2           5.00                      5.00     2018-05   \n",
       "\n",
       "  Batch_Month  Is_Batch_Date_Missing  Is_Fulfilled  Deferred_Revenue  \\\n",
       "0         NaN                      1             0             87.50   \n",
       "1         NaN                      1             0            145.35   \n",
       "2         NaN                      1             0             28.00   \n",
       "3         NaN                      1             0             10.00   \n",
       "4         NaN                      1             0              5.00   \n",
       "\n",
       "   Fulfilled_Sip_Count  \n",
       "0                    0  \n",
       "1                    0  \n",
       "2                    0  \n",
       "3                    0  \n",
       "4                    0  "
      ],
      "text/html": "<div>\n<style scoped>\n    .dataframe tbody tr th:only-of-type {\n        vertical-align: middle;\n    }\n\n    .dataframe tbody tr th {\n        vertical-align: top;\n    }\n\n    .dataframe thead th {\n        text-align: right;\n    }\n</style>\n<table border=\"1\" class=\"dataframe\">\n  <thead>\n    <tr style=\"text-align: right;\">\n      <th></th>\n      <th>shopify_order_id</th>\n      <th>order_processed_at_date</th>\n      <th>watched_order_batched_at_date</th>\n      <th>order_total_sip_count</th>\n      <th>order_revenue</th>\n      <th>order_accounting_revenue</th>\n      <th>Order_Month</th>\n      <th>Batch_Month</th>\n      <th>Is_Batch_Date_Missing</th>\n      <th>Is_Fulfilled</th>\n      <th>Deferred_Revenue</th>\n      <th>Fulfilled_Sip_Count</th>\n    </tr>\n  </thead>\n  <tbody>\n    <tr>\n      <th>0</th>\n      <td>3679989203034</td>\n      <td>2021-03-12 14:09:37</td>\n      <td>NaT</td>\n      <td>17</td>\n      <td>87.50</td>\n      <td>87.50</td>\n      <td>2021-03</td>\n      <td>NaN</td>\n      <td>1</td>\n      <td>0</td>\n      <td>87.50</td>\n      <td>0</td>\n    </tr>\n    <tr>\n      <th>1</th>\n      <td>3009411481690</td>\n      <td>2021-01-01 07:12:11</td>\n      <td>NaT</td>\n      <td>42</td>\n      <td>141.81</td>\n      <td>145.35</td>\n      <td>2021-01</td>\n      <td>NaN</td>\n      <td>1</td>\n      <td>0</td>\n      <td>145.35</td>\n      <td>0</td>\n    </tr>\n    <tr>\n      <th>2</th>\n      <td>1362037243994</td>\n      <td>2019-01-24 00:50:11</td>\n      <td>NaT</td>\n      <td>2</td>\n      <td>28.00</td>\n      <td>28.00</td>\n      <td>2019-01</td>\n      <td>NaN</td>\n      <td>1</td>\n      <td>0</td>\n      <td>28.00</td>\n      <td>0</td>\n    </tr>\n    <tr>\n      <th>3</th>\n      <td>3693081493594</td>\n      <td>2021-03-17 22:47:26</td>\n      <td>NaT</td>\n      <td>0</td>\n      <td>5.00</td>\n      <td>10.00</td>\n      <td>2021-03</td>\n      <td>NaN</td>\n      <td>1</td>\n      <td>0</td>\n      <td>10.00</td>\n      <td>0</td>\n    </tr>\n    <tr>\n      <th>4</th>\n      <td>1382759694426</td>\n      <td>2018-05-18 12:54:48</td>\n      <td>NaT</td>\n      <td>2</td>\n      <td>5.00</td>\n      <td>5.00</td>\n      <td>2018-05</td>\n      <td>NaN</td>\n      <td>1</td>\n      <td>0</td>\n      <td>5.00</td>\n      <td>0</td>\n    </tr>\n  </tbody>\n</table>\n</div>"
     },
     "metadata": {},
     "execution_count": 2
    }
   ],
   "source": [
    "# Adding Order & Batch month\n",
    "df_orders['Order_Month'] = df_orders['order_processed_at_date'].dt.strftime('%Y-%m')\n",
    "df_orders['Batch_Month'] = df_orders['watched_order_batched_at_date'].dt.strftime('%Y-%m')\n",
    "\n",
    "# Adding columns to identify Missing Batch Dates & if the Batch Month does not equal to the order month\n",
    "Is_Batch_Date_Missing = []\n",
    "Is_Fulfilled =[]\n",
    "Fulfilled_Sip_Count = []\n",
    "Deferred_Revenue = []\n",
    "\n",
    "for index, row in df_orders.iterrows():\n",
    "    if row['watched_order_batched_at_date'] != row['watched_order_batched_at_date']:\n",
    "        Is_Batch_Date_Missing.append(1)\n",
    "    else:\n",
    "        Is_Batch_Date_Missing.append(0)\n",
    "    \n",
    "    if row['Order_Month'] == row['Batch_Month']:\n",
    "        Is_Fulfilled.append(1)\n",
    "        Deferred_Revenue.append(0)\n",
    "        Fulfilled_Sip_Count.append(row['order_total_sip_count'])\n",
    "    else:\n",
    "        Is_Fulfilled.append(0)\n",
    "        Deferred_Revenue.append(row['order_accounting_revenue'])\n",
    "        Fulfilled_Sip_Count.append(0)\n",
    "\n",
    "# Adding those lists to dataframe\n",
    "df_orders['Is_Batch_Date_Missing'] = Is_Batch_Date_Missing\n",
    "df_orders['Is_Fulfilled'] = Is_Fulfilled\n",
    "df_orders['Deferred_Revenue'] = Deferred_Revenue\n",
    "df_orders['Fulfilled_Sip_Count'] = Fulfilled_Sip_Count\n",
    "\n",
    "df_orders.head()"
   ]
  },
  {
   "source": [
    "### Monthly summary of orders with missing batch dates"
   ],
   "cell_type": "markdown",
   "metadata": {}
  },
  {
   "cell_type": "code",
   "execution_count": 9,
   "metadata": {},
   "outputs": [
    {
     "output_type": "execute_result",
     "data": {
      "text/plain": [
       "Order_Month              2017-10  2017-11  2017-12  2018-01  2018-02  \\\n",
       "Total Orders (Shopify)      65.0    399.0    693.0   1748.0   6691.0   \n",
       "Fulfilled Orders             0.0      0.0      0.0      0.0      0.0   \n",
       "Unfulfilled Orders          65.0    399.0    693.0   1748.0   6691.0   \n",
       "% of Unfulfilled Orders      1.0      1.0      1.0      1.0      1.0   \n",
       "Total Revenue (Acc.)       457.0   3150.0  12948.6  28184.6  86127.0   \n",
       "Deferred_Revenue (Acc.)    457.0   3150.0  12948.6  28184.6  86127.0   \n",
       "% of Deferred Revenue        1.0      1.0      1.0      1.0      1.0   \n",
       "Total Sip Count            152.0    974.0   3826.0   8364.0  27136.0   \n",
       "Fulfilled Sip Count          0.0      0.0      0.0      0.0      0.0   \n",
       "\n",
       "Order_Month               2018-03   2018-04   2018-05   2018-06   2018-07  \\\n",
       "Total Orders (Shopify)    13953.0   27800.0   23808.0   22714.0   23023.0   \n",
       "Fulfilled Orders              0.0       0.0       0.0       0.0       0.0   \n",
       "Unfulfilled Orders        13953.0   27800.0   23808.0   22714.0   23023.0   \n",
       "% of Unfulfilled Orders       1.0       1.0       1.0       1.0       1.0   \n",
       "Total Revenue (Acc.)     202570.2  380781.8  400597.6  423052.5  423346.6   \n",
       "Deferred_Revenue (Acc.)  202570.2  380781.8  400597.6  423052.5  423346.6   \n",
       "% of Deferred Revenue         1.0       1.0       1.0       1.0       1.0   \n",
       "Total Sip Count           62366.0  119764.0  123618.0  129062.0  130258.0   \n",
       "Fulfilled Sip Count           0.0       0.0       0.0       0.0       0.0   \n",
       "\n",
       "Order_Month              ...       2020-08       2020-09       2020-10  \\\n",
       "Total Orders (Shopify)   ...  1.187510e+05  9.964200e+04  9.082500e+04   \n",
       "Fulfilled Orders         ...  1.131230e+05  9.707700e+04  8.681400e+04   \n",
       "Unfulfilled Orders       ...  1.655000e+03  1.048000e+03  9.750000e+02   \n",
       "% of Unfulfilled Orders  ...  1.393672e-02  1.051765e-02  1.073493e-02   \n",
       "Total Revenue (Acc.)     ...  3.296215e+06  2.982295e+06  2.742251e+06   \n",
       "Deferred_Revenue (Acc.)  ...  1.549305e+05  7.543708e+04  1.113790e+05   \n",
       "% of Deferred Revenue    ...  4.700253e-02  2.529497e-02  4.061589e-02   \n",
       "Total Sip Count          ...  8.813070e+05  8.042700e+05  7.401280e+05   \n",
       "Fulfilled Sip Count      ...  8.452020e+05  7.898830e+05  7.128630e+05   \n",
       "\n",
       "Order_Month                   2020-11       2020-12       2021-01  \\\n",
       "Total Orders (Shopify)   8.466000e+04  7.870500e+04  1.107790e+05   \n",
       "Fulfilled Orders         8.193800e+04  7.602300e+04  9.548700e+04   \n",
       "Unfulfilled Orders       1.288000e+03  1.113000e+03  1.169000e+03   \n",
       "% of Unfulfilled Orders  1.521380e-02  1.414141e-02  1.055254e-02   \n",
       "Total Revenue (Acc.)     2.537862e+06  2.447723e+06  3.529883e+06   \n",
       "Deferred_Revenue (Acc.)  8.075438e+04  7.465723e+04  4.727993e+05   \n",
       "% of Deferred Revenue    3.181984e-02  3.050068e-02  1.339419e-01   \n",
       "Total Sip Count          6.536500e+05  6.499210e+05  8.913370e+05   \n",
       "Fulfilled Sip Count      6.419740e+05  6.330740e+05  7.796160e+05   \n",
       "\n",
       "Order_Month                   2021-02       2021-03       2021-04  \\\n",
       "Total Orders (Shopify)   1.534740e+05  3.313820e+05  2.231300e+05   \n",
       "Fulfilled Orders         1.380750e+05  2.183910e+05  1.205070e+05   \n",
       "Unfulfilled Orders       3.900000e+02  3.512000e+03  8.101200e+04   \n",
       "% of Unfulfilled Orders  2.541147e-03  1.059804e-02  3.630709e-01   \n",
       "Total Revenue (Acc.)     4.926884e+06  1.100389e+07  7.562489e+06   \n",
       "Deferred_Revenue (Acc.)  5.158422e+05  4.059436e+06  4.118240e+06   \n",
       "% of Deferred Revenue    1.046995e-01  3.689092e-01  5.445615e-01   \n",
       "Total Sip Count          1.202511e+06  2.481621e+06  1.791492e+06   \n",
       "Fulfilled Sip Count      1.079131e+06  1.638595e+06  9.646930e+05   \n",
       "\n",
       "Order_Month                    2021-05  \n",
       "Total Orders (Shopify)    28089.000000  \n",
       "Fulfilled Orders           1514.000000  \n",
       "Unfulfilled Orders        26575.000000  \n",
       "% of Unfulfilled Orders       0.946100  \n",
       "Total Revenue (Acc.)     949227.890000  \n",
       "Deferred_Revenue (Acc.)  917761.490000  \n",
       "% of Deferred Revenue         0.966851  \n",
       "Total Sip Count          234610.000000  \n",
       "Fulfilled Sip Count        9022.000000  \n",
       "\n",
       "[9 rows x 44 columns]"
      ],
      "text/html": "<div>\n<style scoped>\n    .dataframe tbody tr th:only-of-type {\n        vertical-align: middle;\n    }\n\n    .dataframe tbody tr th {\n        vertical-align: top;\n    }\n\n    .dataframe thead th {\n        text-align: right;\n    }\n</style>\n<table border=\"1\" class=\"dataframe\">\n  <thead>\n    <tr style=\"text-align: right;\">\n      <th>Order_Month</th>\n      <th>2017-10</th>\n      <th>2017-11</th>\n      <th>2017-12</th>\n      <th>2018-01</th>\n      <th>2018-02</th>\n      <th>2018-03</th>\n      <th>2018-04</th>\n      <th>2018-05</th>\n      <th>2018-06</th>\n      <th>2018-07</th>\n      <th>...</th>\n      <th>2020-08</th>\n      <th>2020-09</th>\n      <th>2020-10</th>\n      <th>2020-11</th>\n      <th>2020-12</th>\n      <th>2021-01</th>\n      <th>2021-02</th>\n      <th>2021-03</th>\n      <th>2021-04</th>\n      <th>2021-05</th>\n    </tr>\n  </thead>\n  <tbody>\n    <tr>\n      <th>Total Orders (Shopify)</th>\n      <td>65.0</td>\n      <td>399.0</td>\n      <td>693.0</td>\n      <td>1748.0</td>\n      <td>6691.0</td>\n      <td>13953.0</td>\n      <td>27800.0</td>\n      <td>23808.0</td>\n      <td>22714.0</td>\n      <td>23023.0</td>\n      <td>...</td>\n      <td>1.187510e+05</td>\n      <td>9.964200e+04</td>\n      <td>9.082500e+04</td>\n      <td>8.466000e+04</td>\n      <td>7.870500e+04</td>\n      <td>1.107790e+05</td>\n      <td>1.534740e+05</td>\n      <td>3.313820e+05</td>\n      <td>2.231300e+05</td>\n      <td>28089.000000</td>\n    </tr>\n    <tr>\n      <th>Fulfilled Orders</th>\n      <td>0.0</td>\n      <td>0.0</td>\n      <td>0.0</td>\n      <td>0.0</td>\n      <td>0.0</td>\n      <td>0.0</td>\n      <td>0.0</td>\n      <td>0.0</td>\n      <td>0.0</td>\n      <td>0.0</td>\n      <td>...</td>\n      <td>1.131230e+05</td>\n      <td>9.707700e+04</td>\n      <td>8.681400e+04</td>\n      <td>8.193800e+04</td>\n      <td>7.602300e+04</td>\n      <td>9.548700e+04</td>\n      <td>1.380750e+05</td>\n      <td>2.183910e+05</td>\n      <td>1.205070e+05</td>\n      <td>1514.000000</td>\n    </tr>\n    <tr>\n      <th>Unfulfilled Orders</th>\n      <td>65.0</td>\n      <td>399.0</td>\n      <td>693.0</td>\n      <td>1748.0</td>\n      <td>6691.0</td>\n      <td>13953.0</td>\n      <td>27800.0</td>\n      <td>23808.0</td>\n      <td>22714.0</td>\n      <td>23023.0</td>\n      <td>...</td>\n      <td>1.655000e+03</td>\n      <td>1.048000e+03</td>\n      <td>9.750000e+02</td>\n      <td>1.288000e+03</td>\n      <td>1.113000e+03</td>\n      <td>1.169000e+03</td>\n      <td>3.900000e+02</td>\n      <td>3.512000e+03</td>\n      <td>8.101200e+04</td>\n      <td>26575.000000</td>\n    </tr>\n    <tr>\n      <th>% of Unfulfilled Orders</th>\n      <td>1.0</td>\n      <td>1.0</td>\n      <td>1.0</td>\n      <td>1.0</td>\n      <td>1.0</td>\n      <td>1.0</td>\n      <td>1.0</td>\n      <td>1.0</td>\n      <td>1.0</td>\n      <td>1.0</td>\n      <td>...</td>\n      <td>1.393672e-02</td>\n      <td>1.051765e-02</td>\n      <td>1.073493e-02</td>\n      <td>1.521380e-02</td>\n      <td>1.414141e-02</td>\n      <td>1.055254e-02</td>\n      <td>2.541147e-03</td>\n      <td>1.059804e-02</td>\n      <td>3.630709e-01</td>\n      <td>0.946100</td>\n    </tr>\n    <tr>\n      <th>Total Revenue (Acc.)</th>\n      <td>457.0</td>\n      <td>3150.0</td>\n      <td>12948.6</td>\n      <td>28184.6</td>\n      <td>86127.0</td>\n      <td>202570.2</td>\n      <td>380781.8</td>\n      <td>400597.6</td>\n      <td>423052.5</td>\n      <td>423346.6</td>\n      <td>...</td>\n      <td>3.296215e+06</td>\n      <td>2.982295e+06</td>\n      <td>2.742251e+06</td>\n      <td>2.537862e+06</td>\n      <td>2.447723e+06</td>\n      <td>3.529883e+06</td>\n      <td>4.926884e+06</td>\n      <td>1.100389e+07</td>\n      <td>7.562489e+06</td>\n      <td>949227.890000</td>\n    </tr>\n    <tr>\n      <th>Deferred_Revenue (Acc.)</th>\n      <td>457.0</td>\n      <td>3150.0</td>\n      <td>12948.6</td>\n      <td>28184.6</td>\n      <td>86127.0</td>\n      <td>202570.2</td>\n      <td>380781.8</td>\n      <td>400597.6</td>\n      <td>423052.5</td>\n      <td>423346.6</td>\n      <td>...</td>\n      <td>1.549305e+05</td>\n      <td>7.543708e+04</td>\n      <td>1.113790e+05</td>\n      <td>8.075438e+04</td>\n      <td>7.465723e+04</td>\n      <td>4.727993e+05</td>\n      <td>5.158422e+05</td>\n      <td>4.059436e+06</td>\n      <td>4.118240e+06</td>\n      <td>917761.490000</td>\n    </tr>\n    <tr>\n      <th>% of Deferred Revenue</th>\n      <td>1.0</td>\n      <td>1.0</td>\n      <td>1.0</td>\n      <td>1.0</td>\n      <td>1.0</td>\n      <td>1.0</td>\n      <td>1.0</td>\n      <td>1.0</td>\n      <td>1.0</td>\n      <td>1.0</td>\n      <td>...</td>\n      <td>4.700253e-02</td>\n      <td>2.529497e-02</td>\n      <td>4.061589e-02</td>\n      <td>3.181984e-02</td>\n      <td>3.050068e-02</td>\n      <td>1.339419e-01</td>\n      <td>1.046995e-01</td>\n      <td>3.689092e-01</td>\n      <td>5.445615e-01</td>\n      <td>0.966851</td>\n    </tr>\n    <tr>\n      <th>Total Sip Count</th>\n      <td>152.0</td>\n      <td>974.0</td>\n      <td>3826.0</td>\n      <td>8364.0</td>\n      <td>27136.0</td>\n      <td>62366.0</td>\n      <td>119764.0</td>\n      <td>123618.0</td>\n      <td>129062.0</td>\n      <td>130258.0</td>\n      <td>...</td>\n      <td>8.813070e+05</td>\n      <td>8.042700e+05</td>\n      <td>7.401280e+05</td>\n      <td>6.536500e+05</td>\n      <td>6.499210e+05</td>\n      <td>8.913370e+05</td>\n      <td>1.202511e+06</td>\n      <td>2.481621e+06</td>\n      <td>1.791492e+06</td>\n      <td>234610.000000</td>\n    </tr>\n    <tr>\n      <th>Fulfilled Sip Count</th>\n      <td>0.0</td>\n      <td>0.0</td>\n      <td>0.0</td>\n      <td>0.0</td>\n      <td>0.0</td>\n      <td>0.0</td>\n      <td>0.0</td>\n      <td>0.0</td>\n      <td>0.0</td>\n      <td>0.0</td>\n      <td>...</td>\n      <td>8.452020e+05</td>\n      <td>7.898830e+05</td>\n      <td>7.128630e+05</td>\n      <td>6.419740e+05</td>\n      <td>6.330740e+05</td>\n      <td>7.796160e+05</td>\n      <td>1.079131e+06</td>\n      <td>1.638595e+06</td>\n      <td>9.646930e+05</td>\n      <td>9022.000000</td>\n    </tr>\n  </tbody>\n</table>\n<p>9 rows × 44 columns</p>\n</div>"
     },
     "metadata": {},
     "execution_count": 9
    }
   ],
   "source": [
    "orders_Total = pd.DataFrame(df_orders.groupby('Order_Month').count()['shopify_order_id'])\n",
    "orders_Fulfilled = pd.DataFrame(df_orders.groupby('Order_Month').sum()['Is_Fulfilled'])\n",
    "orders_Unfulfilled = pd.DataFrame(df_orders.groupby('Order_Month').sum()['Is_Batch_Date_Missing'])\n",
    "Total_Revenue = pd.DataFrame(df_orders.groupby('Order_Month').sum()['order_accounting_revenue'])\n",
    "Deferred_Revenue = pd.DataFrame(df_orders.groupby('Order_Month').sum()['Deferred_Revenue'])\n",
    "Total_Sip_Count = pd.DataFrame(df_orders.groupby('Order_Month').sum()['order_total_sip_count'])\n",
    "Fulfilled_Sip_Count = pd.DataFrame(df_orders.groupby('Order_Month').sum()['Fulfilled_Sip_Count'])\n",
    "\n",
    "# Joining these dataframes & renaming the columns\n",
    "monthly_summary = pd.concat([orders_Total, orders_Fulfilled, orders_Unfulfilled, Total_Revenue, Deferred_Revenue, Total_Sip_Count, Fulfilled_Sip_Count], axis=1)\n",
    "monthly_summary.rename(columns={'shopify_order_id':'Total Orders (Shopify)',\n",
    "                                'Is_Fulfilled':'Fulfilled Orders',\n",
    "                                'Is_Batch_Date_Missing':'Unfulfilled Orders',\n",
    "                                'order_accounting_revenue':'Total Revenue (Acc.)',\n",
    "                                'Deferred_Revenue':'Deferred_Revenue (Acc.)',\n",
    "                                'order_total_sip_count':'Total Sip Count',\n",
    "                                'Fulfilled_Sip_Count':'Fulfilled Sip Count'}, inplace=True)\n",
    "\n",
    "# Adding a column for % of unfulfilled orders & % deferred revenue\n",
    "monthly_summary['% of Unfulfilled Orders'] = (monthly_summary['Unfulfilled Orders']/monthly_summary['Total Orders (Shopify)'])\n",
    "monthly_summary['% of Deferred Revenue'] = (monthly_summary['Deferred_Revenue (Acc.)']/monthly_summary['Total Revenue (Acc.)'])\n",
    "\n",
    "# formatting columns\n",
    "# monthly_summary['Total Orders (Shopify)'] = monthly_summary['Total Orders (Shopify)'].map('{:,}'.format)\n",
    "# monthly_summary['Fulfilled Orders'] = monthly_summary['Fulfilled Orders'].map('{:,}'.format)\n",
    "# monthly_summary['Unfulfilled Orders'] = monthly_summary['Unfulfilled Orders'].map('{:,}'.format)\n",
    "# monthly_summary['Total Revenue (Acc.)'] = monthly_summary['Total Revenue (Acc.)'].map('${:,.0f}'.format)\n",
    "# monthly_summary['Deferred_Revenue (Acc.)'] = monthly_summary['Deferred_Revenue (Acc.)'].map('${:,.0f}'.format)\n",
    "# monthly_summary['% of Unfulfilled Orders'] = monthly_summary['% of Unfulfilled Orders'].map('{:,.2%}'.format)\n",
    "# monthly_summary['% of Deferred Revenue'] = monthly_summary['% of Deferred Revenue'].map('{:,.2%}'.format)\n",
    "# monthly_summary['Total Sip Count'] = monthly_summary['Total Sip Count'].map('{:,}'.format)\n",
    "# monthly_summary['Fulfilled Sip Count'] = monthly_summary['Fulfilled Sip Count'].map('{:,}'.format)\n",
    "\n",
    "# Reordering columns\n",
    "monthly_summary = monthly_summary.reindex(columns=['Total Orders (Shopify)', 'Fulfilled Orders', 'Unfulfilled Orders', '% of Unfulfilled Orders',\n",
    "                                 'Total Revenue (Acc.)', 'Deferred_Revenue (Acc.)', '% of Deferred Revenue', 'Total Sip Count', 'Fulfilled Sip Count'])\n",
    "monthly_summary = monthly_summary.transpose()\n",
    "monthly_summary"
   ]
  },
  {
   "source": [
    "### Exporting momthly summary to excel file"
   ],
   "cell_type": "markdown",
   "metadata": {}
  },
  {
   "cell_type": "code",
   "execution_count": 10,
   "metadata": {},
   "outputs": [],
   "source": [
    "# Data export to excel\n",
    "\n",
    "import platform\n",
    "import os\n",
    "os_name = platform.system()\n",
    "\n",
    "# TimeStamp\n",
    "dateTimeObj = datetime.now(tz=None)\n",
    "timeStamp = str(str(dateTimeObj.month) + \".\" + str(dateTimeObj.day) + \".\" + str(dateTimeObj.year))\n",
    "\n",
    "filename = \"Unfulfilled Orders & Deferred Revenue by Month_\" + timeStamp + \".xlsx\"\n",
    "\n",
    "if os_name == \"Darwin\":\n",
    "    desktop_path = os.path.join(os.path.join(os.path.expanduser('~')), 'Downloads')\n",
    "    out_path = desktop_path + \"/\" + filename\n",
    "    with pd.ExcelWriter(out_path) as writer:\n",
    "        monthly_summary.to_excel(writer, sheet_name='Summary')\n",
    "\n",
    "if os_name == \"Windows\":\n",
    "    desktop_path = os.path.join(os.path.join(os.environ['USERPROFILE']), 'Downloads')\n",
    "    out_path = desktop_path + \"//\" + filename\n",
    "    with pd.ExcelWriter(out_path) as writer:\n",
    "        monthly_summary.to_excel(writer, sheet_name='Summary')\n"
   ]
  }
 ]
}