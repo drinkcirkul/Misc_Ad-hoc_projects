{
 "metadata": {
  "language_info": {
   "codemirror_mode": {
    "name": "ipython",
    "version": 3
   },
   "file_extension": ".py",
   "mimetype": "text/x-python",
   "name": "python",
   "nbconvert_exporter": "python",
   "pygments_lexer": "ipython3",
   "version": "3.9.5"
  },
  "orig_nbformat": 2,
  "kernelspec": {
   "name": "python395jvsc74a57bd022cee99f74ec38adc7393270a77b342381809bc1e225db732d70d4b3b19ce19a",
   "display_name": "Python 3.9.5 64-bit (windows store)"
  },
  "metadata": {
   "interpreter": {
    "hash": "22cee99f74ec38adc7393270a77b342381809bc1e225db732d70d4b3b19ce19a"
   }
  }
 },
 "nbformat": 4,
 "nbformat_minor": 2,
 "cells": [
  {
   "source": [
    "## Racktrack Shipments"
   ],
   "cell_type": "markdown",
   "metadata": {}
  },
  {
   "cell_type": "code",
   "execution_count": 1,
   "metadata": {},
   "outputs": [],
   "source": [
    "import pandas as pd\n",
    "import sqlalchemy\n",
    "from sqlalchemy import create_engine\n",
    "\n",
    "from datetime import date, datetime, timedelta\n",
    "from pandas import DataFrame"
   ]
  },
  {
   "cell_type": "code",
   "execution_count": 2,
   "metadata": {},
   "outputs": [],
   "source": [
    "# Getting credentials from another file\n",
    "import creds_panoply\n",
    "\n",
    "POSTGRES_ADDRESS = creds_panoply.address\n",
    "POSTGRES_PORT = creds_panoply.port\n",
    "POSTGRES_USERNAME = creds_panoply.username\n",
    "POSTGRES_PASSWORD = creds_panoply.pw\n",
    "POSTGRES_DBNAME = creds_panoply.dbname\n",
    "\n",
    "postgres_str = ('postgresql://{username}:{password}@{ipaddress}:{port}/{dbname}'.format(\n",
    "    username=POSTGRES_USERNAME,\n",
    "    password=POSTGRES_PASSWORD,\n",
    "    ipaddress=POSTGRES_ADDRESS,\n",
    "    port=POSTGRES_PORT,\n",
    "    dbname=POSTGRES_DBNAME))\n",
    "\n",
    "cnx = create_engine(postgres_str)"
   ]
  },
  {
   "cell_type": "code",
   "execution_count": 3,
   "metadata": {},
   "outputs": [
    {
     "output_type": "execute_result",
     "data": {
      "text/plain": [
       "  shipping_date  fulfillment_sku fulfillment_sku_variant  shipped_quantity\n",
       "0    2021-05-31     BASE-BREWCLS                    None                 0\n",
       "1    2021-05-31  BASE-BREWCREBRL                    None                 0\n",
       "2    2021-05-31     BASE-BREWCRM                    None                 0\n",
       "3    2021-05-31     BASE-BREWHZL                    None                 0\n",
       "4    2021-05-31     BASE-BREWMCH                    None                 0"
      ],
      "text/html": "<div>\n<style scoped>\n    .dataframe tbody tr th:only-of-type {\n        vertical-align: middle;\n    }\n\n    .dataframe tbody tr th {\n        vertical-align: top;\n    }\n\n    .dataframe thead th {\n        text-align: right;\n    }\n</style>\n<table border=\"1\" class=\"dataframe\">\n  <thead>\n    <tr style=\"text-align: right;\">\n      <th></th>\n      <th>shipping_date</th>\n      <th>fulfillment_sku</th>\n      <th>fulfillment_sku_variant</th>\n      <th>shipped_quantity</th>\n    </tr>\n  </thead>\n  <tbody>\n    <tr>\n      <th>0</th>\n      <td>2021-05-31</td>\n      <td>BASE-BREWCLS</td>\n      <td>None</td>\n      <td>0</td>\n    </tr>\n    <tr>\n      <th>1</th>\n      <td>2021-05-31</td>\n      <td>BASE-BREWCREBRL</td>\n      <td>None</td>\n      <td>0</td>\n    </tr>\n    <tr>\n      <th>2</th>\n      <td>2021-05-31</td>\n      <td>BASE-BREWCRM</td>\n      <td>None</td>\n      <td>0</td>\n    </tr>\n    <tr>\n      <th>3</th>\n      <td>2021-05-31</td>\n      <td>BASE-BREWHZL</td>\n      <td>None</td>\n      <td>0</td>\n    </tr>\n    <tr>\n      <th>4</th>\n      <td>2021-05-31</td>\n      <td>BASE-BREWMCH</td>\n      <td>None</td>\n      <td>0</td>\n    </tr>\n  </tbody>\n</table>\n</div>"
     },
     "metadata": {},
     "execution_count": 3
    }
   ],
   "source": [
    "# Getting relevant data from Panoply\n",
    "\n",
    "n_days = 4                 # Number of past days for which we'll like to get the data for\n",
    "date_cutoff = str(date.today() - timedelta(n_days))\n",
    "# date_cutoff = '2021-05-25'\n",
    "\n",
    "tbl_name = \"public.racetracks_shipped_items_by_date\"\n",
    "query = \"SELECT * FROM \" + tbl_name + \" WHERE shipping_date > '\" + date_cutoff + \"';\"\n",
    "df = pd.read_sql_query(query, cnx)\n",
    "df.head()"
   ]
  },
  {
   "cell_type": "code",
   "execution_count": 4,
   "metadata": {},
   "outputs": [
    {
     "output_type": "execute_result",
     "data": {
      "text/plain": [
       "  shipping_date  fulfillment_sku fulfillment_sku_variant  shipped_quantity  \\\n",
       "0    2021-05-31     BASE-BREWCLS                    None                 0   \n",
       "1    2021-05-31  BASE-BREWCREBRL                    None                 0   \n",
       "2    2021-05-31     BASE-BREWCRM                    None                 0   \n",
       "3    2021-05-31     BASE-BREWHZL                    None                 0   \n",
       "4    2021-05-31     BASE-BREWMCH                    None                 0   \n",
       "\n",
       "  Mfg_SKU  Avg_Sales_Price  \n",
       "0     TBC                0  \n",
       "1     TBC                0  \n",
       "2     TBC                0  \n",
       "3     TBC                0  \n",
       "4     TBC                0  "
      ],
      "text/html": "<div>\n<style scoped>\n    .dataframe tbody tr th:only-of-type {\n        vertical-align: middle;\n    }\n\n    .dataframe tbody tr th {\n        vertical-align: top;\n    }\n\n    .dataframe thead th {\n        text-align: right;\n    }\n</style>\n<table border=\"1\" class=\"dataframe\">\n  <thead>\n    <tr style=\"text-align: right;\">\n      <th></th>\n      <th>shipping_date</th>\n      <th>fulfillment_sku</th>\n      <th>fulfillment_sku_variant</th>\n      <th>shipped_quantity</th>\n      <th>Mfg_SKU</th>\n      <th>Avg_Sales_Price</th>\n    </tr>\n  </thead>\n  <tbody>\n    <tr>\n      <th>0</th>\n      <td>2021-05-31</td>\n      <td>BASE-BREWCLS</td>\n      <td>None</td>\n      <td>0</td>\n      <td>TBC</td>\n      <td>0</td>\n    </tr>\n    <tr>\n      <th>1</th>\n      <td>2021-05-31</td>\n      <td>BASE-BREWCREBRL</td>\n      <td>None</td>\n      <td>0</td>\n      <td>TBC</td>\n      <td>0</td>\n    </tr>\n    <tr>\n      <th>2</th>\n      <td>2021-05-31</td>\n      <td>BASE-BREWCRM</td>\n      <td>None</td>\n      <td>0</td>\n      <td>TBC</td>\n      <td>0</td>\n    </tr>\n    <tr>\n      <th>3</th>\n      <td>2021-05-31</td>\n      <td>BASE-BREWHZL</td>\n      <td>None</td>\n      <td>0</td>\n      <td>TBC</td>\n      <td>0</td>\n    </tr>\n    <tr>\n      <th>4</th>\n      <td>2021-05-31</td>\n      <td>BASE-BREWMCH</td>\n      <td>None</td>\n      <td>0</td>\n      <td>TBC</td>\n      <td>0</td>\n    </tr>\n  </tbody>\n</table>\n</div>"
     },
     "metadata": {},
     "execution_count": 4
    }
   ],
   "source": [
    "# Adding columns for Mfg. SKUs & sales_prices\n",
    "df['Mfg_SKU'] = \"TBC\"\n",
    "df['Avg_Sales_Price'] = 0\n",
    "df.head()\n"
   ]
  },
  {
   "cell_type": "code",
   "execution_count": 5,
   "metadata": {},
   "outputs": [
    {
     "output_type": "execute_result",
     "data": {
      "text/plain": [
       "   Fulfillment_SKU Variant     Mfg_SKU  base_sales_price\n",
       "0     BASE-BREWCLS     NaN     BREWCLS               3.1\n",
       "1  BASE-BREWCREBRL     NaN  BREWCREBRL               3.1\n",
       "2     BASE-BREWCRM     NaN     BREWCRM               3.1\n",
       "3     BASE-BREWHZL     NaN     BREWHZL               3.1\n",
       "4     BASE-BREWMCH     NaN     BREWMCH               3.1"
      ],
      "text/html": "<div>\n<style scoped>\n    .dataframe tbody tr th:only-of-type {\n        vertical-align: middle;\n    }\n\n    .dataframe tbody tr th {\n        vertical-align: top;\n    }\n\n    .dataframe thead th {\n        text-align: right;\n    }\n</style>\n<table border=\"1\" class=\"dataframe\">\n  <thead>\n    <tr style=\"text-align: right;\">\n      <th></th>\n      <th>Fulfillment_SKU</th>\n      <th>Variant</th>\n      <th>Mfg_SKU</th>\n      <th>base_sales_price</th>\n    </tr>\n  </thead>\n  <tbody>\n    <tr>\n      <th>0</th>\n      <td>BASE-BREWCLS</td>\n      <td>NaN</td>\n      <td>BREWCLS</td>\n      <td>3.1</td>\n    </tr>\n    <tr>\n      <th>1</th>\n      <td>BASE-BREWCREBRL</td>\n      <td>NaN</td>\n      <td>BREWCREBRL</td>\n      <td>3.1</td>\n    </tr>\n    <tr>\n      <th>2</th>\n      <td>BASE-BREWCRM</td>\n      <td>NaN</td>\n      <td>BREWCRM</td>\n      <td>3.1</td>\n    </tr>\n    <tr>\n      <th>3</th>\n      <td>BASE-BREWHZL</td>\n      <td>NaN</td>\n      <td>BREWHZL</td>\n      <td>3.1</td>\n    </tr>\n    <tr>\n      <th>4</th>\n      <td>BASE-BREWMCH</td>\n      <td>NaN</td>\n      <td>BREWMCH</td>\n      <td>3.1</td>\n    </tr>\n  </tbody>\n</table>\n</div>"
     },
     "metadata": {},
     "execution_count": 5
    }
   ],
   "source": [
    "# Mapping Table\n",
    "df_mapping = pd.read_excel('SKUMapping_Fulfillment_to_Mfg.xlsx', sheet_name='sku_mapping')\n",
    "df_mapping.head()"
   ]
  },
  {
   "cell_type": "code",
   "execution_count": 6,
   "metadata": {},
   "outputs": [
    {
     "output_type": "execute_result",
     "data": {
      "text/plain": [
       "  shipping_date  fulfillment_sku fulfillment_sku_variant  shipped_quantity  \\\n",
       "0    2021-05-31     BASE-BREWCLS                    None                 0   \n",
       "1    2021-05-31  BASE-BREWCREBRL                    None                 0   \n",
       "2    2021-05-31     BASE-BREWCRM                    None                 0   \n",
       "3    2021-05-31     BASE-BREWHZL                    None                 0   \n",
       "4    2021-05-31     BASE-BREWMCH                    None                 0   \n",
       "\n",
       "      Mfg_SKU  Avg_Sales_Price  \n",
       "0     BREWCLS              3.1  \n",
       "1  BREWCREBRL              3.1  \n",
       "2     BREWCRM              3.1  \n",
       "3     BREWHZL              3.1  \n",
       "4     BREWMCH              3.1  "
      ],
      "text/html": "<div>\n<style scoped>\n    .dataframe tbody tr th:only-of-type {\n        vertical-align: middle;\n    }\n\n    .dataframe tbody tr th {\n        vertical-align: top;\n    }\n\n    .dataframe thead th {\n        text-align: right;\n    }\n</style>\n<table border=\"1\" class=\"dataframe\">\n  <thead>\n    <tr style=\"text-align: right;\">\n      <th></th>\n      <th>shipping_date</th>\n      <th>fulfillment_sku</th>\n      <th>fulfillment_sku_variant</th>\n      <th>shipped_quantity</th>\n      <th>Mfg_SKU</th>\n      <th>Avg_Sales_Price</th>\n    </tr>\n  </thead>\n  <tbody>\n    <tr>\n      <th>0</th>\n      <td>2021-05-31</td>\n      <td>BASE-BREWCLS</td>\n      <td>None</td>\n      <td>0</td>\n      <td>BREWCLS</td>\n      <td>3.1</td>\n    </tr>\n    <tr>\n      <th>1</th>\n      <td>2021-05-31</td>\n      <td>BASE-BREWCREBRL</td>\n      <td>None</td>\n      <td>0</td>\n      <td>BREWCREBRL</td>\n      <td>3.1</td>\n    </tr>\n    <tr>\n      <th>2</th>\n      <td>2021-05-31</td>\n      <td>BASE-BREWCRM</td>\n      <td>None</td>\n      <td>0</td>\n      <td>BREWCRM</td>\n      <td>3.1</td>\n    </tr>\n    <tr>\n      <th>3</th>\n      <td>2021-05-31</td>\n      <td>BASE-BREWHZL</td>\n      <td>None</td>\n      <td>0</td>\n      <td>BREWHZL</td>\n      <td>3.1</td>\n    </tr>\n    <tr>\n      <th>4</th>\n      <td>2021-05-31</td>\n      <td>BASE-BREWMCH</td>\n      <td>None</td>\n      <td>0</td>\n      <td>BREWMCH</td>\n      <td>3.1</td>\n    </tr>\n  </tbody>\n</table>\n</div>"
     },
     "metadata": {},
     "execution_count": 6
    }
   ],
   "source": [
    "for i in df.index:\n",
    "    # cartridges\n",
    "    if df.loc[i, 'fulfillment_sku_variant'] == None:\n",
    "        for j in df_mapping.index:\n",
    "            if df.loc[i, 'fulfillment_sku'] == df_mapping.loc[j, 'Fulfillment_SKU']:\n",
    "                df.loc[i, 'Mfg_SKU'] = df_mapping.loc[j, 'Mfg_SKU']\n",
    "                df.loc[i, 'Avg_Sales_Price'] = df_mapping.loc[j, 'base_sales_price']\n",
    "    # Non-cartridges\n",
    "    else:\n",
    "        for j in df_mapping.index:\n",
    "            if (df.loc[i, 'fulfillment_sku'] == df_mapping.loc[j, 'Fulfillment_SKU']) and (df.loc[i, 'fulfillment_sku_variant'] == df_mapping.loc[j, 'Variant']):\n",
    "                df.loc[i, 'Mfg_SKU'] = df_mapping.loc[j, 'Mfg_SKU']\n",
    "                df.loc[i, 'Avg_Sales_Price'] = df_mapping.loc[j, 'base_sales_price']\n",
    "\n",
    "df.head()\n",
    "        "
   ]
  },
  {
   "cell_type": "code",
   "execution_count": 7,
   "metadata": {},
   "outputs": [],
   "source": [
    "# Dropping rows with shipped_quantity = 0\n",
    "df = df[df.shipped_quantity > 0]"
   ]
  },
  {
   "cell_type": "code",
   "execution_count": 8,
   "metadata": {},
   "outputs": [],
   "source": [
    "# Export df to excel\n",
    "\n",
    "import platform\n",
    "import os\n",
    "os_name = platform.system()\n",
    "\n",
    "\n",
    "dateTimeObj = datetime.now(tz=None)\n",
    "timeStamp = str(str(dateTimeObj.month) + \".\" + str(dateTimeObj.day) + \".\" + str(dateTimeObj.year))\n",
    "filename = \"Test_df_\" + timeStamp + \".xlsx\"\n",
    "\n",
    "if os_name == \"Windows\":\n",
    "    desktop_path = os.path.join(os.path.join(os.environ['USERPROFILE']), 'Downloads')\n",
    "    out_path = desktop_path + \"//\" + filename\n",
    "    with pd.ExcelWriter(out_path) as writer:\n",
    "        df.to_excel(writer, sheet_name='Summary')"
   ]
  },
  {
   "cell_type": "code",
   "execution_count": 9,
   "metadata": {},
   "outputs": [],
   "source": [
    "# Dropping some columns\n",
    "df.drop(columns=['fulfillment_sku', 'fulfillment_sku_variant'], inplace=True)\n",
    "\n",
    "# Dropping rows with shipped_quantity = 0\n",
    "df = df[df.shipped_quantity > 0]\n",
    "\n",
    "# Reordering columns\n",
    "df = df[['shipping_date', 'Mfg_SKU', 'shipped_quantity', 'Avg_Sales_Price']]\n",
    "\n"
   ]
  },
  {
   "cell_type": "code",
   "execution_count": 10,
   "metadata": {},
   "outputs": [
    {
     "output_type": "execute_result",
     "data": {
      "text/plain": [
       "                          shipped_quantity  Avg_Sales_Price\n",
       "shipping_date Mfg_SKU                                      \n",
       "2021-06-01    BOTL12                   126             10.0\n",
       "              BOTL22                  1654             13.0\n",
       "              BREWCLS                   77              3.1\n",
       "              BREWCREBRL                17              3.1\n",
       "              BREWCRM                  967              3.1"
      ],
      "text/html": "<div>\n<style scoped>\n    .dataframe tbody tr th:only-of-type {\n        vertical-align: middle;\n    }\n\n    .dataframe tbody tr th {\n        vertical-align: top;\n    }\n\n    .dataframe thead th {\n        text-align: right;\n    }\n</style>\n<table border=\"1\" class=\"dataframe\">\n  <thead>\n    <tr style=\"text-align: right;\">\n      <th></th>\n      <th></th>\n      <th>shipped_quantity</th>\n      <th>Avg_Sales_Price</th>\n    </tr>\n    <tr>\n      <th>shipping_date</th>\n      <th>Mfg_SKU</th>\n      <th></th>\n      <th></th>\n    </tr>\n  </thead>\n  <tbody>\n    <tr>\n      <th rowspan=\"5\" valign=\"top\">2021-06-01</th>\n      <th>BOTL12</th>\n      <td>126</td>\n      <td>10.0</td>\n    </tr>\n    <tr>\n      <th>BOTL22</th>\n      <td>1654</td>\n      <td>13.0</td>\n    </tr>\n    <tr>\n      <th>BREWCLS</th>\n      <td>77</td>\n      <td>3.1</td>\n    </tr>\n    <tr>\n      <th>BREWCREBRL</th>\n      <td>17</td>\n      <td>3.1</td>\n    </tr>\n    <tr>\n      <th>BREWCRM</th>\n      <td>967</td>\n      <td>3.1</td>\n    </tr>\n  </tbody>\n</table>\n</div>"
     },
     "metadata": {},
     "execution_count": 10
    }
   ],
   "source": [
    "# Output\n",
    "output = df.groupby(['shipping_date', 'Mfg_SKU']).sum()\n",
    "output.head()"
   ]
  },
  {
   "cell_type": "code",
   "execution_count": 11,
   "metadata": {},
   "outputs": [],
   "source": [
    "# Exporting the output  to Excel\n",
    "\n",
    "import platform\n",
    "import os\n",
    "os_name = platform.system()\n",
    "\n",
    "\n",
    "dateTimeObj = datetime.now(tz=None)\n",
    "timeStamp = str(dateTimeObj.strftime(\"%m.%d.%Y %I-%M %p\"))\n",
    "filename = \"Daily_Racetrack_Shipments_\" + timeStamp + \".xlsx\"\n",
    "\n",
    "if os_name == \"Darwin\":\n",
    "    desktop_path = os.path.join(os.path.join(os.path.expanduser('~')), 'Downloads')\n",
    "    out_path = desktop_path + \"/\" + filename\n",
    "    with pd.ExcelWriter(out_path) as writer:\n",
    "        output.to_excel(writer, sheet_name='Summary')\n",
    "\n",
    "if os_name == \"Windows\":\n",
    "    desktop_path = os.path.join(os.path.join(os.environ['USERPROFILE']), 'Downloads')\n",
    "    out_path = desktop_path + \"//\" + filename\n",
    "    with pd.ExcelWriter(out_path) as writer:\n",
    "        output.to_excel(writer, sheet_name='Summary')\n"
   ]
  }
 ]
}