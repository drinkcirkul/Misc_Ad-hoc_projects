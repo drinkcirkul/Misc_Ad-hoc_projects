{
 "metadata": {
  "language_info": {
   "codemirror_mode": {
    "name": "ipython",
    "version": 3
   },
   "file_extension": ".py",
   "mimetype": "text/x-python",
   "name": "python",
   "nbconvert_exporter": "python",
   "pygments_lexer": "ipython3",
   "version": "3.9.2-final"
  },
  "orig_nbformat": 2,
  "kernelspec": {
   "name": "python3",
   "display_name": "Python 3.9.2 64-bit",
   "metadata": {
    "interpreter": {
     "hash": "aee8b7b246df8f9039afb4144a1f6fd8d2ca17a180786b69acc140d282b71a49"
    }
   }
  }
 },
 "nbformat": 4,
 "nbformat_minor": 2,
 "cells": [
  {
   "cell_type": "code",
   "execution_count": 1,
   "metadata": {},
   "outputs": [],
   "source": [
    "import pandas as pd\n",
    "import sqlalchemy\n",
    "from sqlalchemy import create_engine"
   ]
  },
  {
   "source": [
    "# Getting credentials from another file\n",
    "import creds_panoply\n",
    "\n",
    "POSTGRES_ADDRESS = creds_panoply.address\n",
    "POSTGRES_PORT = creds_panoply.port\n",
    "POSTGRES_USERNAME = creds_panoply.username\n",
    "POSTGRES_PASSWORD = creds_panoply.pw\n",
    "POSTGRES_DBNAME = creds_panoply.dbname\n",
    "\n",
    "postgres_str = ('postgresql://{username}:{password}@{ipaddress}:{port}/{dbname}'.format(\n",
    "    username=POSTGRES_USERNAME,\n",
    "    password=POSTGRES_PASSWORD,\n",
    "    ipaddress=POSTGRES_ADDRESS,\n",
    "    port=POSTGRES_PORT,\n",
    "    dbname=POSTGRES_DBNAME))\n",
    "\n",
    "cnx = create_engine(postgres_str)"
   ],
   "cell_type": "code",
   "metadata": {},
   "execution_count": 2,
   "outputs": []
  },
  {
   "cell_type": "code",
   "execution_count": null,
   "metadata": {},
   "outputs": [],
   "source": [
    "# Getting the tables\n"
   ]
  }
 ]
}