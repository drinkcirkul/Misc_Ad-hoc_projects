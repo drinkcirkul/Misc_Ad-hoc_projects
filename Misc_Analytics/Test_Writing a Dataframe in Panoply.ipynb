{
 "metadata": {
  "language_info": {
   "codemirror_mode": {
    "name": "ipython",
    "version": 3
   },
   "file_extension": ".py",
   "mimetype": "text/x-python",
   "name": "python",
   "nbconvert_exporter": "python",
   "pygments_lexer": "ipython3",
   "version": "3.9.5"
  },
  "orig_nbformat": 2,
  "kernelspec": {
   "name": "python395jvsc74a57bd022cee99f74ec38adc7393270a77b342381809bc1e225db732d70d4b3b19ce19a",
   "display_name": "Python 3.9.5 64-bit (windows store)"
  },
  "metadata": {
   "interpreter": {
    "hash": "22cee99f74ec38adc7393270a77b342381809bc1e225db732d70d4b3b19ce19a"
   }
  }
 },
 "nbformat": 4,
 "nbformat_minor": 2,
 "cells": [
  {
   "cell_type": "code",
   "execution_count": 1,
   "metadata": {},
   "outputs": [],
   "source": [
    "import pandas as pd\n",
    "import sqlalchemy\n",
    "import psycopg2\n",
    "from sqlalchemy import create_engine\n",
    "\n",
    "from datetime import date, datetime, timedelta\n",
    "from pandas import DataFrame"
   ]
  },
  {
   "cell_type": "code",
   "execution_count": 2,
   "metadata": {},
   "outputs": [],
   "source": [
    "# Getting credentials from another file\n",
    "import creds_panoply\n",
    "\n",
    "POSTGRES_ADDRESS = creds_panoply.address\n",
    "POSTGRES_PORT = creds_panoply.port\n",
    "POSTGRES_USERNAME = creds_panoply.username\n",
    "POSTGRES_PASSWORD = creds_panoply.pw\n",
    "POSTGRES_DBNAME = creds_panoply.dbname\n",
    "\n",
    "postgres_str = ('postgresql://{username}:{password}@{ipaddress}:{port}/{dbname}'.format(\n",
    "    username=POSTGRES_USERNAME,\n",
    "    password=POSTGRES_PASSWORD,\n",
    "    ipaddress=POSTGRES_ADDRESS,\n",
    "    port=POSTGRES_PORT,\n",
    "    dbname=POSTGRES_DBNAME))\n",
    "\n",
    "cnx = create_engine(postgres_str)"
   ]
  },
  {
   "cell_type": "code",
   "execution_count": 3,
   "metadata": {},
   "outputs": [
    {
     "output_type": "execute_result",
     "data": {
      "text/plain": [
       "     Name  Age\n",
       "0    Alex   10\n",
       "1     Bob   12\n",
       "2  Clarke   13"
      ],
      "text/html": "<div>\n<style scoped>\n    .dataframe tbody tr th:only-of-type {\n        vertical-align: middle;\n    }\n\n    .dataframe tbody tr th {\n        vertical-align: top;\n    }\n\n    .dataframe thead th {\n        text-align: right;\n    }\n</style>\n<table border=\"1\" class=\"dataframe\">\n  <thead>\n    <tr style=\"text-align: right;\">\n      <th></th>\n      <th>Name</th>\n      <th>Age</th>\n    </tr>\n  </thead>\n  <tbody>\n    <tr>\n      <th>0</th>\n      <td>Alex</td>\n      <td>10</td>\n    </tr>\n    <tr>\n      <th>1</th>\n      <td>Bob</td>\n      <td>12</td>\n    </tr>\n    <tr>\n      <th>2</th>\n      <td>Clarke</td>\n      <td>13</td>\n    </tr>\n  </tbody>\n</table>\n</div>"
     },
     "metadata": {},
     "execution_count": 3
    }
   ],
   "source": [
    "# Creating a dataframe\n",
    "data = [['Alex',10],['Bob',12],['Clarke',13]]\n",
    "df = pd.DataFrame(data,columns=['Name','Age'])\n",
    "df"
   ]
  },
  {
   "cell_type": "code",
   "execution_count": 5,
   "metadata": {},
   "outputs": [],
   "source": [
    "df.to_sql('df', con=cnx, index=False) "
   ]
  }
 ]
}