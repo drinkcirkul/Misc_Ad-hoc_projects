{
 "metadata": {
  "language_info": {
   "codemirror_mode": {
    "name": "ipython",
    "version": 3
   },
   "file_extension": ".py",
   "mimetype": "text/x-python",
   "name": "python",
   "nbconvert_exporter": "python",
   "pygments_lexer": "ipython3",
   "version": "3.7.9"
  },
  "orig_nbformat": 2,
  "kernelspec": {
   "name": "python3",
   "display_name": "Python 3.7.9 64-bit (windows store)"
  },
  "metadata": {
   "interpreter": {
    "hash": "22cee99f74ec38adc7393270a77b342381809bc1e225db732d70d4b3b19ce19a"
   }
  },
  "interpreter": {
   "hash": "35c1d020f1cc725936310acd2e52f17ed434900223d9b63d3827c74283d51926"
  }
 },
 "nbformat": 4,
 "nbformat_minor": 2,
 "cells": [
  {
   "cell_type": "code",
   "execution_count": 1,
   "metadata": {},
   "outputs": [],
   "source": [
    "import pandas as pd\n",
    "import sqlalchemy\n",
    "import psycopg2\n",
    "from sqlalchemy import create_engine\n",
    "\n",
    "from datetime import date, datetime, timedelta\n",
    "from pandas import DataFrame"
   ]
  },
  {
   "cell_type": "code",
   "execution_count": 2,
   "metadata": {},
   "outputs": [],
   "source": [
    "# Getting credentials from another file\n",
    "import creds_panoply\n",
    "\n",
    "POSTGRES_ADDRESS = creds_panoply.address\n",
    "POSTGRES_PORT = creds_panoply.port\n",
    "POSTGRES_USERNAME = creds_panoply.username\n",
    "POSTGRES_PASSWORD = creds_panoply.pw\n",
    "POSTGRES_DBNAME = creds_panoply.dbname\n",
    "\n",
    "postgres_str = ('postgresql://{username}:{password}@{ipaddress}:{port}/{dbname}'.format(\n",
    "    username=POSTGRES_USERNAME,\n",
    "    password=POSTGRES_PASSWORD,\n",
    "    ipaddress=POSTGRES_ADDRESS,\n",
    "    port=POSTGRES_PORT,\n",
    "    dbname=POSTGRES_DBNAME))\n",
    "\n",
    "cnx = create_engine(postgres_str)"
   ]
  },
  {
   "cell_type": "code",
   "execution_count": null,
   "metadata": {},
   "outputs": [],
   "source": [
    "# Getting relevenat tables\n",
    "\n",
    "tbl_name = \"cirkul_database_import.dhl_shipment_status_updates\"\n",
    "sel_fields = \"date, 'tracking numbers', weight, qty, zip\"\n",
    "query = \"SELECT \" + sel_fields + \" FROM \" + tbl_name\n",
    "df_dhl = pd.read_sql_query(query, cnx)"
   ]
  },
  {
   "cell_type": "code",
   "execution_count": null,
   "metadata": {},
   "outputs": [],
   "source": [
    "df_dhl.head()"
   ]
  }
 ]
}