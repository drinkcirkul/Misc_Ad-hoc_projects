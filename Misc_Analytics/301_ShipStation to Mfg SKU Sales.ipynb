{
 "metadata": {
  "language_info": {
   "codemirror_mode": {
    "name": "ipython",
    "version": 3
   },
   "file_extension": ".py",
   "mimetype": "text/x-python",
   "name": "python",
   "nbconvert_exporter": "python",
   "pygments_lexer": "ipython3",
   "version": "3.9.5"
  },
  "orig_nbformat": 2,
  "kernelspec": {
   "name": "python395jvsc74a57bd022cee99f74ec38adc7393270a77b342381809bc1e225db732d70d4b3b19ce19a",
   "display_name": "Python 3.9.5 64-bit (windows store)"
  },
  "metadata": {
   "interpreter": {
    "hash": "22cee99f74ec38adc7393270a77b342381809bc1e225db732d70d4b3b19ce19a"
   }
  }
 },
 "nbformat": 4,
 "nbformat_minor": 2,
 "cells": [
  {
   "source": [
    "### ShipStation to Mfg SKU Sales"
   ],
   "cell_type": "markdown",
   "metadata": {}
  },
  {
   "cell_type": "code",
   "execution_count": 1,
   "metadata": {},
   "outputs": [],
   "source": [
    "import pandas as pd\n",
    "import sqlalchemy\n",
    "from sqlalchemy import create_engine\n",
    "\n",
    "from datetime import datetime\n",
    "from pandas import DataFrame"
   ]
  },
  {
   "cell_type": "code",
   "execution_count": 2,
   "metadata": {},
   "outputs": [],
   "source": [
    "# Getting credentials from another file\n",
    "import creds_panoply\n",
    "\n",
    "POSTGRES_ADDRESS = creds_panoply.address\n",
    "POSTGRES_PORT = creds_panoply.port\n",
    "POSTGRES_USERNAME = creds_panoply.username\n",
    "POSTGRES_PASSWORD = creds_panoply.pw\n",
    "POSTGRES_DBNAME = creds_panoply.dbname\n",
    "\n",
    "postgres_str = ('postgresql://{username}:{password}@{ipaddress}:{port}/{dbname}'.format(\n",
    "    username=POSTGRES_USERNAME,\n",
    "    password=POSTGRES_PASSWORD,\n",
    "    ipaddress=POSTGRES_ADDRESS,\n",
    "    port=POSTGRES_PORT,\n",
    "    dbname=POSTGRES_DBNAME))\n",
    "\n",
    "cnx = create_engine(postgres_str)"
   ]
  },
  {
   "cell_type": "code",
   "execution_count": 3,
   "metadata": {},
   "outputs": [],
   "source": [
    "tbl_name = \"cirkul_database_import.cirkul_warehouse_shipstation_shipment_items\"\n",
    "query = \"SELECT * FROM \" + tbl_name + \" LIMIT 1;\"\n",
    "df = pd.read_sql_query(query, cnx)\n"
   ]
  },
  {
   "cell_type": "code",
   "execution_count": 6,
   "metadata": {},
   "outputs": [
    {
     "output_type": "execute_result",
     "data": {
      "text/plain": [
       "Index(['id', '__updatetime', 'shipstation_order_number', 'item_sku',\n",
       "       'db_created_at', '__tablename', '__schemaname', '__state',\n",
       "       'shipstation_order_item_id', 'quantity', 'shipstation_order_id',\n",
       "       'db_updated_at', '__databasename', '__senttime'],\n",
       "      dtype='object')"
      ]
     },
     "metadata": {},
     "execution_count": 6
    }
   ],
   "source": [
    "df.columns"
   ]
  }
 ]
}