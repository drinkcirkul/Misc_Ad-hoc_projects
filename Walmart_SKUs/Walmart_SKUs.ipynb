{
 "cells": [
  {
   "cell_type": "markdown",
   "metadata": {},
   "source": [
    "### Purpose:\n",
    "To get the list of all the Walmart SKUs and corresponding UPCs from the SPS web EDI."
   ]
  },
  {
   "cell_type": "code",
   "execution_count": 1,
   "metadata": {},
   "outputs": [],
   "source": [
    "import pandas as pd"
   ]
  },
  {
   "cell_type": "code",
   "execution_count": 3,
   "metadata": {},
   "outputs": [
    {
     "name": "stdout",
     "output_type": "stream",
     "text": [
      "(1179, 121)\n"
     ]
    }
   ],
   "source": [
    "df = pd.read_csv('Input_WMT_PO_Download.csv', dtype=str)\n",
    "print(df.shape)"
   ]
  },
  {
   "cell_type": "code",
   "execution_count": 4,
   "metadata": {},
   "outputs": [
    {
     "name": "stdout",
     "output_type": "stream",
     "text": [
      "(17, 4)\n"
     ]
    }
   ],
   "source": [
    "df2 = df[['Buyers Catalog or Stock Keeping #', 'UPC/EAN', 'Vendor Style', 'Color']]\n",
    "df2 = df2.dropna()\n",
    "df2.drop_duplicates(inplace=True)\n",
    "print(df2.shape)"
   ]
  },
  {
   "cell_type": "code",
   "execution_count": 5,
   "metadata": {},
   "outputs": [
    {
     "name": "stdout",
     "output_type": "stream",
     "text": [
      "    Buyers Catalog or Stock Keeping #       UPC/EAN    Vendor Style  Color\n",
      "5                           597950404  850021373436    850021373436  WHITE\n",
      "174                         597950411  850021373467    850021373467  WHITE\n",
      "8                           597950419  850021373375    850021373375  CLEAR\n",
      "146                         597950435  850021373429    850021373429  WHITE\n",
      "121                         597950446  850021373474    850021373474  WHITE\n",
      "178                         597950450  850021373399    850021373399  WHITE\n",
      "122                         597950755  850021373443    850021373443  WHITE\n",
      "10                          597950756  850021373412    850021373412  WHITE\n",
      "13                          597951179  850021373450    850021373450  WHITE\n",
      "123                         597951188  850021373405    850021373405  WHITE\n",
      "85                          650170336  850021373382    850021373382  WHITE\n",
      "640                         650469998  850021373450    850021373450  WHITE\n",
      "641                         650515339  850021373412    850021373412  WHITE\n",
      "96                          651303658  850021373580  00850021373580  WHITE\n",
      "97                          651303659  850021373603  00850021373603  WHITE\n",
      "98                          651303660  850021373597  00850021373597  WHITE\n",
      "99                          651303661  850021373573  00850021373573  WHITE\n"
     ]
    }
   ],
   "source": [
    "df2.sort_values(by=['Buyers Catalog or Stock Keeping #'], inplace=True)\n",
    "print(df2)"
   ]
  }
 ],
 "metadata": {
  "interpreter": {
   "hash": "903d28fc8095cdeaee5be616f3ebb92fafee475741240b3f05159e4f3ac8bf72"
  },
  "kernelspec": {
   "display_name": "Python 3.9.5 64-bit",
   "language": "python",
   "name": "python3"
  },
  "language_info": {
   "codemirror_mode": {
    "name": "ipython",
    "version": 3
   },
   "file_extension": ".py",
   "mimetype": "text/x-python",
   "name": "python",
   "nbconvert_exporter": "python",
   "pygments_lexer": "ipython3",
   "version": "3.9.5"
  },
  "orig_nbformat": 4
 },
 "nbformat": 4,
 "nbformat_minor": 2
}
